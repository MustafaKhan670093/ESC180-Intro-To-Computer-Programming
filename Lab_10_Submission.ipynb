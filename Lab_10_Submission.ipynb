{
  "nbformat": 4,
  "nbformat_minor": 0,
  "metadata": {
    "colab": {
      "name": "Lab 10 Submission.ipynb",
      "provenance": [],
      "collapsed_sections": [],
      "authorship_tag": "ABX9TyNSem4opHbamCKInDm96DxL",
      "include_colab_link": true
    },
    "kernelspec": {
      "name": "python3",
      "display_name": "Python 3"
    }
  },
  "cells": [
    {
      "cell_type": "markdown",
      "metadata": {
        "id": "view-in-github",
        "colab_type": "text"
      },
      "source": [
        "<a href=\"https://colab.research.google.com/github/MustafaKhan670093/ESC180-Intro-To-Computer-Programming/blob/master/Lab_10_Submission.ipynb\" target=\"_parent\"><img src=\"https://colab.research.google.com/assets/colab-badge.svg\" alt=\"Open In Colab\"/></a>"
      ]
    },
    {
      "cell_type": "markdown",
      "metadata": {
        "id": "0H9jhSVLH2ke"
      },
      "source": [
        "# **Mustafa's Lab 10 Submission**\n",
        "\n",
        "## **Problem 1.**\n",
        "Without using loops, the `**` operator, or any function in the math module, write a function with the signature `power(x, n)` which returns x raised to the power of `n`. You can assume n is a non-negative integer"
      ]
    },
    {
      "cell_type": "code",
      "metadata": {
        "colab": {
          "base_uri": "https://localhost:8080/"
        },
        "id": "iUjOQ7t6H079",
        "outputId": "b517dd1a-cf08-4889-bb82-610f8e7377e5"
      },
      "source": [
        "def power(x, n):\n",
        "  '''Recursively multiply x to calculate x**n'''\n",
        "  if n== 0:\n",
        "    return 1\n",
        "  # if n == 1:\n",
        "  #   return x\n",
        "  else:\n",
        "    return x*power(x, n-1)\n",
        "\n",
        "#Tests\n",
        "print(\"4⁰ = \" + str(power(4, 0)))\n",
        "print(\"4¹ = \" + str(power(4, 1)))\n",
        "print(\"4² = \" + str(power(4, 2)))\n",
        "print(\"4³ = \" + str(power(4, 3)))"
      ],
      "execution_count": null,
      "outputs": [
        {
          "output_type": "stream",
          "text": [
            "4⁰ = 1\n",
            "4¹ = 4\n",
            "4² = 16\n",
            "4³ = 64\n"
          ],
          "name": "stdout"
        }
      ]
    },
    {
      "cell_type": "markdown",
      "metadata": {
        "id": "euIiEh9UM9sn"
      },
      "source": [
        "## **Problem 2**\n",
        "Without using loops, write the function with the signature\n",
        "`interleave(L1, L2)` which takes `L1` and `L2`, two lists of the same length, and returns a list which consists of `L1` and `L2` interleaved, i.e., `[L1[0], L2[0], L1[1], L2[1], ..., L1[n-1], L2[n-1]]` (here, `n == len(L1) == len(L2)`)"
      ]
    },
    {
      "cell_type": "code",
      "metadata": {
        "colab": {
          "base_uri": "https://localhost:8080/"
        },
        "id": "J9Y8XIeIMrFH",
        "outputId": "ee4549c9-897e-4e6b-d5fa-ad0e1f82ac67"
      },
      "source": [
        "def interleave(L1, L2):\n",
        "  #Base Case: Exit once all elements in L2 have been inserted into L1.\n",
        "  if len(L2) == 0:\n",
        "    return L1\n",
        "  indx = (len(L1) - len(L2)) + 1\n",
        "  indx = int(float(indx)) #Note: list.insert requires an integer. Additionally int(indx) would not work as int(0.0) would give an error.\n",
        "  L1.insert(indx, L2.pop(0)) \n",
        "  return interleave(L1, L2)\n",
        "\n",
        "#Tests\n",
        "A = [10, 10, 10, 10]\n",
        "B = [1, 2, 3, 4]\n",
        "\n",
        "print(interleave(A, B))\n",
        "\n",
        "C = [3, 4, 5, 6]\n",
        "D = [200, 5, 1, 7]\n",
        "\n",
        "print(interleave(C, D))"
      ],
      "execution_count": null,
      "outputs": [
        {
          "output_type": "stream",
          "text": [
            "[10, 1, 10, 2, 10, 3, 10, 4]\n",
            "[3, 200, 4, 5, 5, 1, 6, 7]\n"
          ],
          "name": "stdout"
        }
      ]
    },
    {
      "cell_type": "markdown",
      "metadata": {
        "id": "GidMJgg25OPH"
      },
      "source": [
        "## **Problem 3**\n",
        "\n",
        "Without using loops or slicing, write a function that reverses a list in place. That is, the effect of calling `reverse_rec(L)` should be that `L` is reversed. Here is how you might do this with loops:\n",
        "```\n",
        "def reverse_loop(L):\n",
        "  for i in range(len(L)//2):\n",
        "    L[i], L[-1-i] = L[-1-i], L[i]\n",
        "```\n"
      ]
    },
    {
      "cell_type": "code",
      "metadata": {
        "colab": {
          "base_uri": "https://localhost:8080/"
        },
        "id": "h1KjSBBcD0wg",
        "outputId": "9ff323fb-5e6f-4775-a9a9-71f83af7ac61"
      },
      "source": [
        "def reverse_rec(L):\n",
        "  #Initializing a counter number at the very end of the list \n",
        "  if type(L[-1]) != dict:     #[1, 2, 3, 4, {counter: 0}]. - > 4, 3, 2, 1\n",
        "    L.append({'counter': 0})\n",
        " \n",
        "  if L[-1]['counter'] == len(L)//2:\n",
        "    L.pop(-1)\n",
        "    return L\n",
        "  \n",
        "  i = L[-1]['counter'] #Index\n",
        "  L[i], L[-2-i] = L[-2-i], L[i] #Swapping\n",
        "  L[-1]['counter'] = L[-1]['counter'] + 1 #Update \n",
        "  return reverse_rec(L)\n",
        " \n",
        "#Tests\n",
        "A = [5, 4, 3, 2, 1]\n",
        "print(reverse_rec(A))\n",
        "print('\\n')\n",
        "B = [10, 100, 1000, 10000]\n",
        "print(reverse_rec(B))"
      ],
      "execution_count": null,
      "outputs": [
        {
          "output_type": "stream",
          "text": [
            "[1, 2, 3, 4, 5]\n",
            "\n",
            "\n",
            "[10000, 1000, 100, 10]\n"
          ],
          "name": "stdout"
        }
      ]
    },
    {
      "cell_type": "markdown",
      "metadata": {
        "id": "b_IXYLWNHewK"
      },
      "source": [
        "## **Problem 4**\n",
        "*Fun fact: This question is taken from the final exam that Prof. Guerzhoy wrote in his first year.*\n",
        "\n",
        "Without using loops and without ever using print with a list (as opposed to individual elements of a list), write a function that, given a list `L` of size `n` *(assume n is odd)*, prints the elements of `L` in the\n",
        "following order:\n",
        "`L[n//2] L[n//2-1] L[n//2+1] L[n//2-2] L[n//2+2] L[n//2-3] L[n//2+3] ... L[n-1]`\n",
        "\n",
        "Hint: here is a recursive function that prints the following sequence for a list `L` of size `n`:\n",
        "```\n",
        "L[0] L[n-1] L[1] L[n-2] L[2] L[n-3] ... L[n//2]\n",
        "def zigzag1(L):\n",
        "  if len(L) == 0:\n",
        "    print(’’)\n",
        "  elif len(L) == 1:\n",
        "    print(L[0], end = \"\")\n",
        "  else:\n",
        "    print(L[0], L[-1], end = \"\")\n",
        "    zigzag1(L[1:-1])\n",
        "```"
      ]
    },
    {
      "cell_type": "code",
      "metadata": {
        "id": "mWDdhmDwICTH"
      },
      "source": [
        "def zigzag(L):\n",
        "  n = len(L)\n",
        "  \n"
      ],
      "execution_count": null,
      "outputs": []
    },
    {
      "cell_type": "markdown",
      "metadata": {
        "id": "nIfejbf5WUpr"
      },
      "source": [
        "## **Problem 5**\n",
        "Without using any loops or global variables, write a function the with signature (exactly, without default\n",
        "parameters)\n",
        "`is_balanced(s)`\n",
        "which returns True iff the string s is has “balanced” parentheses, i.e., all parentheses () in string s match\n",
        "exactly. For example, `\"(()(()))\"` is balanced but the following:\n",
        "`\"(well (I think), recursion works like that (as far as I know)\"`\n",
        "is not, since it’s missing a closing parenthesis. To simplify matters, you may start by thinking about\n",
        "strings that contain only parentheses, but your final function should work with all strings. Your function\n",
        "should only care about balancing parentheses (), not brackets [] or braces {}."
      ]
    },
    {
      "cell_type": "code",
      "metadata": {
        "colab": {
          "base_uri": "https://localhost:8080/",
          "height": 130
        },
        "id": "CQrmQuMwWfO1",
        "outputId": "8f9d30a6-c47d-402f-9bb5-159b450d5376"
      },
      "source": [
        "def is_balanced(s, indx=0, count=0):\n",
        "  if indx == len(s):\n",
        "    return count == 0\n",
        "  if count < 0:\n",
        "    return False\n",
        "  if s[i] == \"(\":\n",
        "    return is_balanced(s, indx + 1, count + 1)\n",
        "  elif s[i] == \")\":\n",
        "    return is_balanced(s, i + 1, count - 1)\n",
        "  return is_balanced(s, i + 1, count)\n",
        "\n",
        "#Test Case\n",
        "# for s in [\"()\", \"(()\", \"(())\", \"()()\", \")(\"]:\n",
        "#     print \"{}: {}\".format(s, is_balanced(s))"
      ],
      "execution_count": null,
      "outputs": [
        {
          "output_type": "error",
          "ename": "SyntaxError",
          "evalue": "ignored",
          "traceback": [
            "\u001b[0;36m  File \u001b[0;32m\"<ipython-input-2-2c8b50a2f4cf>\"\u001b[0;36m, line \u001b[0;32m14\u001b[0m\n\u001b[0;31m    print \"{}: {}\".format(s, is_balanced(s))\u001b[0m\n\u001b[0m                 ^\u001b[0m\n\u001b[0;31mSyntaxError\u001b[0m\u001b[0;31m:\u001b[0m invalid syntax\n"
          ]
        }
      ]
    },
    {
      "cell_type": "code",
      "metadata": {
        "id": "FLiYdBHfX0B6",
        "colab": {
          "base_uri": "https://localhost:8080/"
        },
        "outputId": "1e30857a-03d0-4b86-c8f8-7eb3a86987eb"
      },
      "source": [
        "def is_balanced(s):\n",
        "    if \"(\" not in s and \")\" not in s:\n",
        "        return True\n",
        "\n",
        "    if \"(\" not in s or \")\" not in s:\n",
        "        return False\n",
        "\n",
        "    if s.index(\"(\") < s.index(\")\") and s.count(\"(\") == 1 and s.count(\")\") == 1:\n",
        "        return True\n",
        "\n",
        "    if s.count(\"(\") != s.count(\")\"):\n",
        "        return False\n",
        "\n",
        "    right = s.index(\")\")\n",
        "\n",
        "    leftsidereversed = s[right::-1]\n",
        "    left = right - leftsidereversed.index(\"(\")\n",
        "\n",
        "    news = s[:left] + s[right+1:]\n",
        "\n",
        "    return is_balanced(news)\n",
        "\n",
        "is_balanced(\"(well (I think), recursion works like that (as far as I know)\")"
      ],
      "execution_count": null,
      "outputs": [
        {
          "output_type": "execute_result",
          "data": {
            "text/plain": [
              "False"
            ]
          },
          "metadata": {
            "tags": []
          },
          "execution_count": 2
        }
      ]
    },
    {
      "cell_type": "code",
      "metadata": {
        "colab": {
          "base_uri": "https://localhost:8080/"
        },
        "id": "DUEsD30Lyozd",
        "outputId": "96dfc3d3-7263-44aa-931b-d8c98c78582e"
      },
      "source": [
        "def is_balanced(s):\n",
        "    if not \"(\" in s and not \")\" in s:\n",
        "        return True\n",
        "    if  not \"(\" in s or not \")\" in s:\n",
        "        return False\n",
        "    else:\n",
        "        if s.find(\"(\") < s.find(\")\"):\n",
        "            s = s.replace(\"(\", \"\",1)\n",
        "            s = s.replace(\")\", \"\",1)\n",
        "            return is_balanced(s)\n",
        "        else:\n",
        "            return False\n",
        "\n",
        "is_balanced(\"(well (I think), recursion works like that (as far as I know)\")"
      ],
      "execution_count": null,
      "outputs": [
        {
          "output_type": "execute_result",
          "data": {
            "text/plain": [
              "False"
            ]
          },
          "metadata": {
            "tags": []
          },
          "execution_count": 3
        }
      ]
    },
    {
      "cell_type": "code",
      "metadata": {
        "id": "A1CTd3ltyxY4"
      },
      "source": [
        "def is_balanced(s):\n",
        "    if (not \"(\" in s) and (not \")\" in s):\n",
        "        return True\n",
        "    elif (\"(\" in s) and (\")\" in s):\n",
        "        i_L = s.find(\"(\")\n",
        "        i_R = s.find(\")\")\n",
        "        if i_R < i_L:\n",
        "            return False\n",
        "\n",
        "        s2 = s[:i_L] + s[i_L + 1 : i_R] + s[i_R + 1 :]\n",
        "        return is_balanced(s2)\n",
        "\n",
        "    return False"
      ],
      "execution_count": null,
      "outputs": []
    }
  ]
}