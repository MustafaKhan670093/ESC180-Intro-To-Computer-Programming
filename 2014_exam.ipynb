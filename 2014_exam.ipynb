{
 "metadata": {
  "language_info": {
   "codemirror_mode": {
    "name": "ipython",
    "version": 3
   },
   "file_extension": ".py",
   "mimetype": "text/x-python",
   "name": "python",
   "nbconvert_exporter": "python",
   "pygments_lexer": "ipython3",
   "version": "3.7.6-final"
  },
  "orig_nbformat": 2,
  "kernelspec": {
   "name": "python3",
   "display_name": "Python 3"
  }
 },
 "nbformat": 4,
 "nbformat_minor": 2,
 "cells": [
  {
   "source": [
    "# 2014 Exam"
   ],
   "cell_type": "markdown",
   "metadata": {}
  },
  {
   "source": [
    "## Question 1. [15 marks]\n",
    "\n",
    "Write a function with the signature `most_productive_elf(toys_produced)` which takes in a dictionary\n",
    "toys_produced whose keys are names of elves and whose values are the numbers of toys that each elf produced. The function should return the name of the elf who produced the most toys. For example, if `toys0` is\n",
    "`{\"Bob\":4000, \"Gloria\":7000, \"Hugo\":6000, \"Grumbles\":42}`, `most_productive_elf(toys0)` should\n",
    "return `\"Gloria\"`. Assume that no two elves produce equal numbers of toys."
   ],
   "cell_type": "markdown",
   "metadata": {}
  },
  {
   "cell_type": "code",
   "execution_count": 2,
   "metadata": {},
   "outputs": [
    {
     "output_type": "stream",
     "name": "stdout",
     "text": [
      "Gloria\n"
     ]
    }
   ],
   "source": [
    "def most_productive_elf(toys_produced):\n",
    "    return sorted(toys_produced, key = toys_produced.get, reverse= True)[0]\n",
    "\n",
    "toys0 = {\"Bob\":4000, \"Gloria\":7000, \"Hugo\":6000, \"Grumbles\":42}\n",
    "print(most_productive_elf(toys0))"
   ]
  },
  {
   "source": [
    "## Question 2. [15 marks]\n",
    "\n",
    "### Part (a) [12 marks]\n",
    "\n",
    "Write a function with the signature `two_smallest(L)` which takes in a list of ints `L`, and returns a list\n",
    "with the two smallest elements of `L`, with the second-smallest element first and the smallest element second.\n",
    "You can assume that all the elements of `L` are different from each other, and that `L` contains more than\n",
    "one element. For example, `two_smallest([5, 3, 10, 4])` should return `[4, 3]`, since `3` and `4` are the\n",
    "smallest elements of `L`, and `4 > 3`. This function can have any runtime complexity you like.\n",
    "\n",
    "### Part (b) [3 marks]\n",
    "\n",
    "What is the runtime complexity of the function you wrote in Part (a)? Explain how you got your answer\n",
    "to this subquestion."
   ],
   "cell_type": "markdown",
   "metadata": {}
  },
  {
   "cell_type": "code",
   "execution_count": 3,
   "metadata": {},
   "outputs": [
    {
     "output_type": "stream",
     "name": "stdout",
     "text": [
      "[4, 3]\n"
     ]
    }
   ],
   "source": [
    "def two_smallest(L):\n",
    "    return [sorted(L)[1], sorted(L)[0]] #O(n log n) presuming quick sort by python\n",
    "\n",
    "print(two_smallest([5, 3, 10, 4]))"
   ]
  },
  {
   "source": [
    "Question 3. [15 marks]\n",
    "A matrix can be represented using a list of sublists of equal lengths, with each sublist representing a row\n",
    "in the matrix. For example, the matrix\n",
    "\n",
    "$$\\begin{pmatrix} 1 & 2 & 3 & 4 \\\\ 5 & 0 & 5 & 0 \\\\ 6 & 7 & 8 & 9\\end{pmatrix}$$\n",
    "\n",
    "can be represented as:\n",
    "\n",
    "`M0 = [ [1, 2, 3, 4], [5, 0, 5, 0], [6, 7, 8, 9]]`\n",
    "\n",
    "Write a function with the signature `largest_col_sum(M)` which takes in a list of lists `M` which represents\n",
    "a matrix in the format outlined above, and returns the sum of the column in the matrix whose sum is the\n",
    "largest. For example, in the matrix `M0` above, the third column has the largest `sum: (3 + 5 + 8 = 16)`. So\n",
    "`largest_col_sum(M0)` should return `16`."
   ],
   "cell_type": "markdown",
   "metadata": {}
  },
  {
   "cell_type": "code",
   "execution_count": 4,
   "metadata": {},
   "outputs": [
    {
     "output_type": "stream",
     "name": "stdout",
     "text": [
      "16\n"
     ]
    }
   ],
   "source": [
    "def largest_col_sum(M):\n",
    "    out = []\n",
    "    k = 0\n",
    "    while k < len(M[0]):\n",
    "        sum = 0\n",
    "        for i in range(len(M)):\n",
    "            sum += M[i][k]\n",
    "        out.append(sum)\n",
    "        k += 1\n",
    "    return max(out)\n",
    "M0 = [ [1, 2, 3, 4], [5, 0, 5, 0], [6, 7, 8, 9]]\n",
    "print(largest_col_sum(M0))"
   ]
  },
  {
   "source": [
    "## Question 6. [12 marks]\n",
    "\n",
    "Without using for- or while- loops, write a function with the signature `filter_out_odds(L)` which\n",
    "takes in a list `L` of integers, and returns a new list that contains only the even integers in `L`, in the same order as in `L`. For example, `filter_out_odds([5, -2, 4, 0, 3, 7, 8])` should return `[-2, 4, 0, 8]`.\n",
    "Non-recursive solutions will earn at most 3 marks."
   ],
   "cell_type": "markdown",
   "metadata": {}
  },
  {
   "cell_type": "code",
   "execution_count": 5,
   "metadata": {},
   "outputs": [
    {
     "output_type": "stream",
     "name": "stdout",
     "text": [
      "[-2, 4, 0, 8]\n"
     ]
    }
   ],
   "source": [
    "def filter_out_odds(L):\n",
    "    if L == []:\n",
    "        return L\n",
    "    if L[0] % 2 == 0:\n",
    "        return [L[0]] + filter_out_odds(L[1 :])\n",
    "    else:\n",
    "        return filter_out_odds(L[1: ])\n",
    "\n",
    "print(filter_out_odds([5, -2, 4, 0, 3, 7, 8]))"
   ]
  },
  {
   "cell_type": "code",
   "execution_count": null,
   "metadata": {},
   "outputs": [],
   "source": []
  }
 ]
}