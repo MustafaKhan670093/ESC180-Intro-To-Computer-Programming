{
  "nbformat": 4,
  "nbformat_minor": 0,
  "metadata": {
    "colab": {
      "name": "Lab 5 Submission",
      "provenance": [],
      "collapsed_sections": [],
      "authorship_tag": "ABX9TyNbrRk2c+xGROhYIenOtrkZ",
      "include_colab_link": true
    },
    "kernelspec": {
      "name": "python3",
      "display_name": "Python 3"
    }
  },
  "cells": [
    {
      "cell_type": "markdown",
      "metadata": {
        "id": "view-in-github",
        "colab_type": "text"
      },
      "source": [
        "<a href=\"https://colab.research.google.com/github/MustafaKhan670093/ESC180-Intro-To-Computer-Programming/blob/master/Lab%205%20Submission.ipynb\" target=\"_parent\"><img src=\"https://colab.research.google.com/assets/colab-badge.svg\" alt=\"Open In Colab\"/></a>"
      ]
    },
    {
      "cell_type": "markdown",
      "metadata": {
        "id": "Fu_9RH28S_8X"
      },
      "source": [
        "# **Lab 5: Lists And Loops**\n",
        "\n",
        "More information about this lab can be found [here](https://nbviewer.jupyter.org/github/guerzh/esc180lab/blob/master/Lab5.ipynb)."
      ]
    },
    {
      "cell_type": "markdown",
      "metadata": {
        "id": "c8B3NMLsTKRQ"
      },
      "source": [
        "## **Problem 1**\n",
        "\n",
        "Write a function with the signature `def list1_start_with_list2(list1, list2)`, which returns True iff `list1` is at least as long as `list2`, and the first `len(list2)` elements of `list1` are the same as `list2`. Note: `len(lis)` is the length of the list `lis`, i.e., the number of elements in `lis`.\n",
        "\n",
        "First write the function without using slicing (“slicing” means saying things like `list1[2:5]`), and using a loop."
      ]
    },
    {
      "cell_type": "code",
      "metadata": {
        "id": "zx8xIoMpS5DE",
        "outputId": "741d8ccb-3bdc-414b-ec0e-2ad4c6adcbdd",
        "colab": {
          "base_uri": "https://localhost:8080/",
          "height": 51
        }
      },
      "source": [
        "def list1_start_with_list2(list1, list2):\n",
        "  if len(list1) == len(list2):\n",
        "    for i in range(len(list2)):\n",
        "      if list1[i] == list2[i]:\n",
        "        pass\n",
        "      else:\n",
        "        return False\n",
        "    return True\n",
        "  else:\n",
        "    return False\n",
        "  \n",
        "      \n",
        "#Test - Same Lists\n",
        "L1 = [1, 2, 3, 4, 5, 6]\n",
        "L2 = [1, 2, 3, 4, 5, 6]\n",
        "print(list1_start_with_list2(L1, L2))\n",
        "\n",
        "#Test - Different Lists\n",
        "L3 = [1, 2, 3, 4, 5, 6]\n",
        "L4 = [1, 2, 3, 4, 5, 6, 7]\n",
        "print(list1_start_with_list2(L3, L4))"
      ],
      "execution_count": 1,
      "outputs": [
        {
          "output_type": "stream",
          "text": [
            "True\n",
            "False\n"
          ],
          "name": "stdout"
        }
      ]
    },
    {
      "cell_type": "markdown",
      "metadata": {
        "id": "tmTFgrdsVpgE"
      },
      "source": [
        "## **Problem 2**\n",
        "\n",
        "Write a function with the signature `def match_pattern(list1, list2)` which returns `True` iff the pattern `list2` appears in `list1`. In other words, we return `True` iff there is an `i` such that `0 ≤ i ≤ len(list1)-len(list2)` and\n",
        "```\n",
        "list1[i] = list2[0]\n",
        "list1[i + 1] =list2[1]\n",
        "    .\n",
        "    .\n",
        "    .\n",
        "list1[i + len(list2) – 1] = list2[-1]\n",
        "```\n",
        "\n",
        "\n",
        "\n",
        "For example, if `list1` is `[4, 10, 2, 3, 50, 100]` and `list2` is `[2, 3, 50]`, `match_pattern(list1, list2)` returns `True` since the pattern `[2, 3, 50] `appears in `list1`."
      ]
    },
    {
      "cell_type": "code",
      "metadata": {
        "id": "3-t4sNrkVGw8",
        "outputId": "bb2c9775-f848-47f1-e1fd-828807a9f0ba",
        "colab": {
          "base_uri": "https://localhost:8080/",
          "height": 51
        }
      },
      "source": [
        "def match_pattern(list1, list2):\n",
        "  iterate = 0\n",
        "  for i in range(len(list1)):\n",
        "    if iterate < len(list2):\n",
        "      if list2[iterate] == list1[i]:\n",
        "        iterate += 1 \n",
        "      else:\n",
        "        return False\n",
        "  return True\n",
        "\n",
        "#Test - Pattern Exists\n",
        "L1 = [1, 2, 3, 4, 5]\n",
        "L2 = [1, 2]\n",
        "print(match_pattern(L1, L2))\n",
        "\n",
        "#Test - Pattern Does Not Exist\n",
        "L3 = [1, 2, 3, 4, 5]\n",
        "L4 = [1, 2, 8, 9]\n",
        "print(match_pattern(L3, L4))\n"
      ],
      "execution_count": 2,
      "outputs": [
        {
          "output_type": "stream",
          "text": [
            "True\n",
            "False\n"
          ],
          "name": "stdout"
        }
      ]
    },
    {
      "cell_type": "markdown",
      "metadata": {
        "id": "ISD6_XIsdoTi"
      },
      "source": [
        "## **Problem 3**\n",
        "\n",
        "Write a function with the signature `def repeats(list0)`, which returns `True` iff `list0` contains at least two adjacent elements with the same value."
      ]
    },
    {
      "cell_type": "code",
      "metadata": {
        "id": "Z17J-nwAWUsP",
        "outputId": "f76f4994-ef15-4097-a5ab-93e8df117174",
        "colab": {
          "base_uri": "https://localhost:8080/",
          "height": 68
        }
      },
      "source": [
        "def repeats(list0):\n",
        "  count = 0\n",
        "  for i in range(len(list0)):\n",
        "    if count >= 2:\n",
        "      return True\n",
        "    if i < len(list0)-2:\n",
        "      if list0[i] == list0[i+1]:\n",
        "        count += 1\n",
        "  return False\n",
        "\n",
        "\n",
        "#Tests - At Least 2 Repeats Exist\n",
        "L1 = [1, 1, 2, 3, 4, 5, 6, 6, 7]\n",
        "print(repeats(L1))\n",
        "\n",
        "#Tests - At Least 2 Repeats Don't Exist\n",
        "L2 = [1, 2, 3, 4, 5, 6, 7]\n",
        "print(repeats(L2))\n",
        "\n",
        "#Tests - At Least 2 Repeats Don't Exist\n",
        "L3 = [1, 2, 3, 4, 5, 6, 6, 7]\n",
        "print(repeats(L3))"
      ],
      "execution_count": 3,
      "outputs": [
        {
          "output_type": "stream",
          "text": [
            "True\n",
            "False\n",
            "False\n"
          ],
          "name": "stdout"
        }
      ]
    },
    {
      "cell_type": "markdown",
      "metadata": {
        "id": "7mpDpmX9fR-Z"
      },
      "source": [
        "## **Problem 4**\n",
        "\n",
        "In Python, you can use a list of lists to store a matrix, with each inner list representing a row. (For example: `M = [[5, 6, 7], [0, -3, 5]]`)\n",
        "\n",
        "### **Problem 4(a)**\n",
        "\n",
        "Write a function with the signature `def print_matrix_dim(M)` which accepts a matrix M in the format above, and prints the matrix dimensions. For example, `print_matrix_dim([[1,2],[3,4],[5,6] ])` should print 3x2."
      ]
    },
    {
      "cell_type": "code",
      "metadata": {
        "id": "1TT_OECUexnD",
        "outputId": "d8ad0cb8-35b2-48d7-94a0-6cde45c2be6c",
        "colab": {
          "base_uri": "https://localhost:8080/",
          "height": 51
        }
      },
      "source": [
        "def print_matrix_dim(M):\n",
        "  rows = len(M)\n",
        "  columns = len(M[0])\n",
        "  print(str(rows) + \"x\" + str(columns))\n",
        "\n",
        "M = [[5, 6, 7], [0, -3, 5]]\n",
        "K = [[100, 200, 300]]\n",
        "\n",
        "print_matrix_dim(M)\n",
        "print_matrix_dim(K)"
      ],
      "execution_count": 4,
      "outputs": [
        {
          "output_type": "stream",
          "text": [
            "2x3\n",
            "1x3\n"
          ],
          "name": "stdout"
        }
      ]
    },
    {
      "cell_type": "markdown",
      "metadata": {
        "id": "840VC4yLgFCV"
      },
      "source": [
        "### **Problem 4(b)**\n",
        "\n",
        "Write a function with the signature `def mult_M_v(M, v)` which returns the product `Mv` of a matrix `M` and a vector `v`. Vectors are stored as lists of floats.\n",
        "\n",
        "To write this function, you will need to create a new vector. Here are two ways to create a new vector (stored as a list) with 10 zeros in it:\n",
        "```\n",
        "ten_zeros1 = [0]*10\n",
        "\n",
        "ten_zeros2 = []\n",
        "for i in range(10):\n",
        "  ten_zeros2.append(0)\n",
        "```\n",
        "\n",
        "\n"
      ]
    },
    {
      "cell_type": "code",
      "metadata": {
        "id": "iiug1bdYf9HX"
      },
      "source": [
        "###### Helper Functions ######\n",
        "\n",
        "import numpy as np\n",
        "\n",
        "def zeroes(height, width):\n",
        "  '''Create a matrix of zeroes.'''\n",
        "  zero_matrix = np.zeros((height, width))\n",
        "  return zero_matrix\n",
        "\n",
        "def transpose(M):\n",
        "  '''Transpose a matrix.'''\n",
        "  result = [[M[j][i] for j in range(len(M))] for i in range(len(M[0]))]\n",
        "  return result\n",
        "\n",
        "def dotproduct(vectora, vectorb):\n",
        "  '''Return the dot product of two vectors.'''\n",
        "  # variable for accumulating the sum\n",
        "  result = 0\n",
        "  \n",
        "  # Using a for loop to multiply the two vectors\n",
        "  # element by element. Accumulate the sum in the result variable\n",
        "  count = 0\n",
        "  for i in vectora:\n",
        "      result = result + i*vectorb[count]\n",
        "      count+=1\n",
        "  return result\n",
        "\n",
        "##############################\n",
        "\n",
        "def mult_M_v(M, v):\n",
        "  M_h = len(M)\n",
        "  M_w = len(M[0])\n",
        "  v_w = len(v)\n",
        "  if M_w != v_w:\n",
        "    print(\"Vector-matrix product not possible.\")\n",
        "    return;\n",
        "\n",
        "  vector_matrix_multiply = []\n",
        "\n",
        "  for i in M:\n",
        "    vector_matrix_multiply.append(dotproduct(i, v))\n",
        "    \n",
        "  return vector_matrix_multiply"
      ],
      "execution_count": 5,
      "outputs": []
    },
    {
      "cell_type": "markdown",
      "metadata": {
        "id": "sN6-yxCFmJ20"
      },
      "source": [
        "### **Test Code For Vector-Matrix Products**\n"
      ]
    },
    {
      "cell_type": "code",
      "metadata": {
        "id": "QUXTJh7YmMSF",
        "outputId": "66dfe64f-d623-4cde-a0bd-ec31c1aee068",
        "colab": {
          "base_uri": "https://localhost:8080/",
          "height": 119
        }
      },
      "source": [
        "#Test Code - Vector-Matrix Product Working\n",
        "# 3x3 matrix\n",
        "print(\"Test 1\")\n",
        "A = [[12,7, 3],\n",
        "    [4 ,5, 6],\n",
        "    [7, 8, 9]]\n",
        "\n",
        "B = [5,8,1]\n",
        "\n",
        "print(mult_M_v(A, B))\n",
        "print(\" \")\n",
        "\n",
        "#Test Code - Vector-Matrix Product Undefined\n",
        "print(\"Test 2\")\n",
        "A = [[12,7, 3],\n",
        "    [4 ,5, 6],\n",
        "    [7, 8, 9]]\n",
        "\n",
        "B = [5,8,1, 4]\n",
        "\n",
        "print(mult_M_v(A, B))"
      ],
      "execution_count": 6,
      "outputs": [
        {
          "output_type": "stream",
          "text": [
            "Test 1\n",
            "[119, 66, 108]\n",
            " \n",
            "Test 2\n",
            "Vector-matrix product not possible.\n",
            "None\n"
          ],
          "name": "stdout"
        }
      ]
    },
    {
      "cell_type": "markdown",
      "metadata": {
        "id": "98_7BRmtt-JO"
      },
      "source": [
        "## **Problem 4(c) (Challenge)**\n",
        "\n",
        "Write a Python function to perform matrix multiplication."
      ]
    },
    {
      "cell_type": "code",
      "metadata": {
        "id": "KgCiN1PLt6GP"
      },
      "source": [
        "def matrix_mult(self, other):\n",
        "  \"\"\"Perform matrix multiplication.\"\"\"\n",
        "  #Check if matrix multiplication is not possible\n",
        "  self_h = len(self)\n",
        "  self_w = len(self[0])\n",
        "  other_h = len(other)\n",
        "  other_w = len(other[0])\n",
        "\n",
        "  if self_w != other_h :\n",
        "      print(\"Matrices cannot be multiplied.\")\n",
        "      return;\n",
        "  \n",
        "  matrixMultiply = zeroes(self_h, other_w)\n",
        "\n",
        "  # iterate through rows of M1\n",
        "  for i in range(len(self)):\n",
        "    # iterate through columns of M2\n",
        "    for j in range(len(other[0])):\n",
        "        # iterate through rows of M2\n",
        "        for k in range(len(other)):\n",
        "            matrixMultiply[i][j] += self[i][k] * other[k][j]\n",
        "  return matrixMultiply"
      ],
      "execution_count": 7,
      "outputs": []
    },
    {
      "cell_type": "markdown",
      "metadata": {
        "id": "_mvkpY4ecJWX"
      },
      "source": [
        "### **Test Code For Matrix Multiplication**"
      ]
    },
    {
      "cell_type": "code",
      "metadata": {
        "id": "Uo1Kc-0WgTyo",
        "outputId": "1971e909-3fa1-4897-e65c-4bed95bb10ac",
        "colab": {
          "base_uri": "https://localhost:8080/",
          "height": 221
        }
      },
      "source": [
        "#Test Code - Matrix Multiplication Woeking\n",
        "# 3x3 matrix\n",
        "print(\"Test 1\")\n",
        "A = [[12,7,3],\n",
        "    [4 ,5,6],\n",
        "    [7 ,8,9]]\n",
        "# 3x4 matrix\n",
        "B = [[5,8,1,2],\n",
        "    [6,7,3,0],\n",
        "    [4,5,9,1]]\n",
        "\n",
        "print(matrix_mult(A, B))\n",
        "print(\" \")\n",
        "print('''Correct answer is: [114, 160, 60, 27]\n",
        "                   [74, 97, 73, 14]\n",
        "                   [119, 157, 112, 23]''')\n",
        "\n",
        "#Test Code - 3x3 and 2x4 matrix\n",
        "# 3x3 matrix\n",
        "X = [[12,7,3],\n",
        "    [4 ,5,6],\n",
        "    [7 ,8,9]]\n",
        "# 2x4 matrix\n",
        "Y = [[6,7,3,0],\n",
        "    [4,5,9,1]]\n",
        "print(\" \")\n",
        "print(\"Test 2\")\n",
        "print(matrix_mult(X, Y))"
      ],
      "execution_count": 8,
      "outputs": [
        {
          "output_type": "stream",
          "text": [
            "Test 1\n",
            "[[114. 160.  60.  27.]\n",
            " [ 74.  97.  73.  14.]\n",
            " [119. 157. 112.  23.]]\n",
            " \n",
            "Correct answer is: [114, 160, 60, 27]\n",
            "                   [74, 97, 73, 14]\n",
            "                   [119, 157, 112, 23]\n",
            " \n",
            "Test 2\n",
            "Matrices cannot be multiplied.\n",
            "None\n"
          ],
          "name": "stdout"
        }
      ]
    }
  ]
}