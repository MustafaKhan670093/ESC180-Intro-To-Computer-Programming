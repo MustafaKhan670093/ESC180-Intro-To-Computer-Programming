{
  "nbformat": 4,
  "nbformat_minor": 0,
  "metadata": {
    "colab": {
      "name": "Lab 2 Submission.ipynb",
      "provenance": [],
      "authorship_tag": "ABX9TyN5D0iddjXEN9MELpPi6+vm",
      "include_colab_link": true
    },
    "kernelspec": {
      "name": "python3",
      "display_name": "Python 3"
    }
  },
  "cells": [
    {
      "cell_type": "markdown",
      "metadata": {
        "id": "view-in-github",
        "colab_type": "text"
      },
      "source": [
        "<a href=\"https://colab.research.google.com/github/MustafaKhan670093/ESC180-Intro-To-Computer-Programming/blob/master/Lab%202%20Submission.ipynb\" target=\"_parent\"><img src=\"https://colab.research.google.com/assets/colab-badge.svg\" alt=\"Open In Colab\"/></a>"
      ]
    },
    {
      "cell_type": "markdown",
      "metadata": {
        "id": "FioUJlIzXMjx",
        "colab_type": "text"
      },
      "source": [
        "# **Mustafa's Submission For ESC180 Lab 2**\n",
        "For this lab, you will write a simple pocket calculator program. More information on this lab can be found [here](https://nbviewer.jupyter.org/github/guerzh/esc180lab/blob/master/Lab2.ipynb).\n",
        "\n",
        "The program will be able to display the current value on the screen of the calculator. You will store the current value of the calculator in a variable. The initial value of the calculator (i.e., the initial current value) is 0."
      ]
    },
    {
      "cell_type": "markdown",
      "metadata": {
        "id": "Eg_R75P2Xt8Q",
        "colab_type": "text"
      },
      "source": [
        "## **Problem 1: Welcome message**\n",
        "\n",
        "In the `if __name__ == \"__main__’` block, write code that displays the following:\n",
        "\n",
        "    Welcome to the calculator program.\n",
        "    Current value: 0\n",
        "\n",
        "In your code, you should include `current_value = 0`, and the value of `current_value` is what you should be printing (i.e., don't just use `print(Current value: 0)`)."
      ]
    },
    {
      "cell_type": "code",
      "metadata": {
        "id": "2juHMjmvXLDs",
        "colab_type": "code",
        "colab": {
          "base_uri": "https://localhost:8080/",
          "height": 34
        },
        "outputId": "ec5df28a-68ea-489d-9efe-3c2f3aa7f845"
      },
      "source": [
        "if __name__ == \"__main__\":\n",
        "  current_value = 0\n",
        "  print(\"Current value: \" + str(current_value))"
      ],
      "execution_count": 2,
      "outputs": [
        {
          "output_type": "stream",
          "text": [
            "Current value: 0\n"
          ],
          "name": "stdout"
        }
      ]
    },
    {
      "cell_type": "markdown",
      "metadata": {
        "id": "G5cA3kewYWYM",
        "colab_type": "text"
      },
      "source": [
        "## **Problem 2: Displaying the Current Value**\n",
        "\n",
        "Write a function whose signature is `display_current_value()` and which displays the current value in the calculator. In the `if __name__ == \"__main__\"` block, test this function by calling it and observing the output. "
      ]
    },
    {
      "cell_type": "code",
      "metadata": {
        "id": "Qj_1Mq4wYh2U",
        "colab_type": "code",
        "colab": {
          "base_uri": "https://localhost:8080/",
          "height": 34
        },
        "outputId": "eb1dea18-17c0-4b11-d26c-acdcad7d986f"
      },
      "source": [
        "global current_value\n",
        "current_value = 0\n",
        "\n",
        "def display_current_value():\n",
        "  global current_value\n",
        "  print(\"Current value: \" + str(current_value))\n",
        "\n",
        "if __name__ == \"__main__\":\n",
        "  display_current_value()"
      ],
      "execution_count": 3,
      "outputs": [
        {
          "output_type": "stream",
          "text": [
            "Current value: 0\n"
          ],
          "name": "stdout"
        }
      ]
    },
    {
      "cell_type": "markdown",
      "metadata": {
        "id": "bjFZXlE7ZHow",
        "colab_type": "text"
      },
      "source": [
        "## **Problem 3: Addition & Subtraction**\n",
        "\n",
        "Write a function whose signature is `def add(to_add)`, and which adds `to_add` to the current value in the calculator, and modifies the current value accordingly. In the `if __name__ == \"__main__\"` block, test the function `add` by calling it, as well as by calling `display_current_value` \n",
        "\n",
        "*Hint*: when modifying global variables from within functions, remember to declare them as `global`"
      ]
    },
    {
      "cell_type": "code",
      "metadata": {
        "id": "sNvqF6GMZf_V",
        "colab_type": "code",
        "colab": {}
      },
      "source": [
        "def add(to_add):\n",
        "  global current_value\n",
        "  current_value = current_value + to_add\n",
        "  return display_current_value()\n",
        "\n",
        "def subtract(to_subtract):\n",
        "  global current_value\n",
        "  current_value = current_value - to_subtract\n",
        "  return display_current_value()"
      ],
      "execution_count": 4,
      "outputs": []
    },
    {
      "cell_type": "markdown",
      "metadata": {
        "id": "-bXNpKDHIebk",
        "colab_type": "text"
      },
      "source": [
        "### **Testing Of Add And Subtract Functions**"
      ]
    },
    {
      "cell_type": "code",
      "metadata": {
        "id": "vUR2jje_IdOu",
        "colab_type": "code",
        "colab": {
          "base_uri": "https://localhost:8080/",
          "height": 68
        },
        "outputId": "5b215d2a-8081-44fc-b3fc-b1dc9e0b1063"
      },
      "source": [
        "if __name__ == \"__main__\":\n",
        "  display_current_value()\n",
        "  add(10)\n",
        "  subtract(5)"
      ],
      "execution_count": 5,
      "outputs": [
        {
          "output_type": "stream",
          "text": [
            "Current value: 0\n",
            "Current value: 10\n",
            "Current value: 5\n"
          ],
          "name": "stdout"
        }
      ]
    },
    {
      "cell_type": "markdown",
      "metadata": {
        "id": "LzIMpxNibApv",
        "colab_type": "text"
      },
      "source": [
        "## **Problem 4: `global`**\n",
        "\n",
        "In the previous question, you needed to use `global current_value` in the function `add` for `add` to be able to modify the value of `current_value`. Make sure you understand what happens when you don't use `global current_value` in the function `add`.\n",
        "\n"
      ]
    },
    {
      "cell_type": "code",
      "metadata": {
        "id": "XfskXFeVbVa6",
        "colab_type": "code",
        "colab": {
          "base_uri": "https://localhost:8080/",
          "height": 317
        },
        "outputId": "a5b86da9-ba1b-4b7c-9aab-65a1d427fc85"
      },
      "source": [
        "current_value = 0\n",
        "to_add = 10\n",
        "\n",
        "def add(to_add):\n",
        "  current_value = current_value + to_add\n",
        "  return display_current_value()\n",
        "\n",
        "if __name__ == \"__main__\":\n",
        "  add(to_add)"
      ],
      "execution_count": 1,
      "outputs": [
        {
          "output_type": "error",
          "ename": "UnboundLocalError",
          "evalue": "ignored",
          "traceback": [
            "\u001b[0;31m---------------------------------------------------------------------------\u001b[0m",
            "\u001b[0;31mUnboundLocalError\u001b[0m                         Traceback (most recent call last)",
            "\u001b[0;32m<ipython-input-1-01bb8ce3fdce>\u001b[0m in \u001b[0;36m<module>\u001b[0;34m()\u001b[0m\n\u001b[1;32m      7\u001b[0m \u001b[0;34m\u001b[0m\u001b[0m\n\u001b[1;32m      8\u001b[0m \u001b[0;32mif\u001b[0m \u001b[0m__name__\u001b[0m \u001b[0;34m==\u001b[0m \u001b[0;34m\"__main__\"\u001b[0m\u001b[0;34m:\u001b[0m\u001b[0;34m\u001b[0m\u001b[0;34m\u001b[0m\u001b[0m\n\u001b[0;32m----> 9\u001b[0;31m   \u001b[0madd\u001b[0m\u001b[0;34m(\u001b[0m\u001b[0mto_add\u001b[0m\u001b[0;34m)\u001b[0m\u001b[0;34m\u001b[0m\u001b[0;34m\u001b[0m\u001b[0m\n\u001b[0m",
            "\u001b[0;32m<ipython-input-1-01bb8ce3fdce>\u001b[0m in \u001b[0;36madd\u001b[0;34m(to_add)\u001b[0m\n\u001b[1;32m      3\u001b[0m \u001b[0;34m\u001b[0m\u001b[0m\n\u001b[1;32m      4\u001b[0m \u001b[0;32mdef\u001b[0m \u001b[0madd\u001b[0m\u001b[0;34m(\u001b[0m\u001b[0mto_add\u001b[0m\u001b[0;34m)\u001b[0m\u001b[0;34m:\u001b[0m\u001b[0;34m\u001b[0m\u001b[0;34m\u001b[0m\u001b[0m\n\u001b[0;32m----> 5\u001b[0;31m   \u001b[0mcurrent_value\u001b[0m \u001b[0;34m=\u001b[0m \u001b[0mcurrent_value\u001b[0m \u001b[0;34m+\u001b[0m \u001b[0mto_add\u001b[0m\u001b[0;34m\u001b[0m\u001b[0;34m\u001b[0m\u001b[0m\n\u001b[0m\u001b[1;32m      6\u001b[0m   \u001b[0;32mreturn\u001b[0m \u001b[0mdisplay_current_value\u001b[0m\u001b[0;34m(\u001b[0m\u001b[0;34m)\u001b[0m\u001b[0;34m\u001b[0m\u001b[0;34m\u001b[0m\u001b[0m\n\u001b[1;32m      7\u001b[0m \u001b[0;34m\u001b[0m\u001b[0m\n",
            "\u001b[0;31mUnboundLocalError\u001b[0m: local variable 'current_value' referenced before assignment"
          ]
        }
      ]
    },
    {
      "cell_type": "markdown",
      "metadata": {
        "id": "RLWIr4WucGOZ",
        "colab_type": "text"
      },
      "source": [
        "### **Explanation of the above UnboundLocalError.**\n",
        "\n",
        "If a variable is assigned a value anywhere within a function’s body, it’s assumed to be a local variable unless explicitly declared as global. Because there is an assignment to `current_value` (which is not a *global* variable) in the function `add`, Python will look in the *local* scope for `current_value`. This is where the error arises as we are attempting to access `current_value` to get its value for the `current_value = current_value + to_add` line of code, but in the local scope `current_value` has not been defined yet."
      ]
    },
    {
      "cell_type": "markdown",
      "metadata": {
        "id": "wxD6X5p0eAEC",
        "colab_type": "text"
      },
      "source": [
        "## **Problem 5: Multiplication And Division**\n",
        "\n",
        "Write functions that perform multiplication and division. What problems might the division function cause?"
      ]
    },
    {
      "cell_type": "code",
      "metadata": {
        "id": "UJEatzLSdnQt",
        "colab_type": "code",
        "colab": {}
      },
      "source": [
        "def multiplication(b):\n",
        "  global current_value\n",
        "  current_value = current_value*b\n",
        "  return display_current_value()\n",
        "\n",
        "def division(b):\n",
        "  global current_value\n",
        "  if b != 0:\n",
        "    current_value = current_value/b\n",
        "    return display_current_value()\n",
        "  else:\n",
        "    return (print(\"ZeroDivisionError: Division by zero.\"))"
      ],
      "execution_count": 6,
      "outputs": []
    },
    {
      "cell_type": "markdown",
      "metadata": {
        "id": "VHN0qKsLe_Q5",
        "colab_type": "text"
      },
      "source": [
        "### **Testing Of Multiplication And Division Functions**"
      ]
    },
    {
      "cell_type": "code",
      "metadata": {
        "id": "Cr3cDy8jfSaz",
        "colab_type": "code",
        "colab": {
          "base_uri": "https://localhost:8080/",
          "height": 102
        },
        "outputId": "41a72ccc-c026-466d-f9a0-8b4af2115aac"
      },
      "source": [
        "if __name__ == \"__main__\":\n",
        "  current_value = 0\n",
        "  print(\"Current value: \" + str(current_value))\n",
        "  add(10)\n",
        "  multiplication(5)\n",
        "  division(5)\n",
        "  division(0)"
      ],
      "execution_count": 7,
      "outputs": [
        {
          "output_type": "stream",
          "text": [
            "Current value: 0\n",
            "Current value: 10\n",
            "Current value: 50\n",
            "Current value: 10.0\n",
            "ZeroDivisionError: Division by zero.\n"
          ],
          "name": "stdout"
        }
      ]
    },
    {
      "cell_type": "markdown",
      "metadata": {
        "id": "bU-sklFrfTKf",
        "colab_type": "text"
      },
      "source": [
        "## **Problem 6: Memory And Recall (Challenge)**\n",
        "\n",
        "Pocket calculators usually have a memory and a recall button. The memory button saves the current value and the recall button restores the saved value. Implement this functionality using functions."
      ]
    },
    {
      "cell_type": "code",
      "metadata": {
        "id": "JXOtJ3y2f64-",
        "colab_type": "code",
        "colab": {}
      },
      "source": [
        "def c_memory():\n",
        "  \"\"\"This function saves the current value to the memory.\"\"\"\n",
        "  global current_value\n",
        "  global calculator_memory\n",
        "  calculator_memory.append(current_value)\n",
        "  return calculator_memory\n",
        "\n",
        "def recall():\n",
        "  \"\"\"This function takes the value saved in memory and makes it the current value.\"\"\"\n",
        "  global current_value\n",
        "  current_value = calculator_memory[-1]\n",
        "  return current_value"
      ],
      "execution_count": 8,
      "outputs": []
    },
    {
      "cell_type": "markdown",
      "metadata": {
        "id": "INi06eiLJaOE",
        "colab_type": "text"
      },
      "source": [
        "### **Testing Of Memory And Recall Functions**"
      ]
    },
    {
      "cell_type": "code",
      "metadata": {
        "id": "WBvoxBLdJfX5",
        "colab_type": "code",
        "colab": {
          "base_uri": "https://localhost:8080/",
          "height": 85
        },
        "outputId": "a8fdfd12-1c76-4580-8427-5498dec277f7"
      },
      "source": [
        "if __name__ == \"__main__\":\n",
        "  current_value = 0\n",
        "  calculator_memory = []\n",
        "  print(\"Current value: \" + str(current_value))\n",
        "  add(5)                                            #Current Value: 0 + 5 = 5\n",
        "  c_memory()                                        #Memory = [5]\n",
        "  add(10)                                           #Current Value: 5 + 10 = 15\n",
        "  recall()                                          #Current Value: 5.\n",
        "  display_current_value()                           #Current Value: 5."
      ],
      "execution_count": 9,
      "outputs": [
        {
          "output_type": "stream",
          "text": [
            "Current value: 0\n",
            "Current value: 5\n",
            "Current value: 15\n",
            "Current value: 5\n"
          ],
          "name": "stdout"
        }
      ]
    },
    {
      "cell_type": "markdown",
      "metadata": {
        "id": "BZI9FaO6EO09",
        "colab_type": "text"
      },
      "source": [
        "## **Problem 7: Undo (Challenge)**\n",
        "\n",
        "Implement a function that simulates the Undo button."
      ]
    },
    {
      "cell_type": "code",
      "metadata": {
        "id": "YfNQlx_3ETBd",
        "colab_type": "code",
        "colab": {}
      },
      "source": [
        "def undo():\n",
        "  global calculator_memory\n",
        "  global current_value\n",
        "  if len(calculator_memory) == 1:\n",
        "    current_value = calculator_memory[0]\n",
        "    print(\"Cannot undo further. Current value remains the same.\")\n",
        "    calculator_memory = []\n",
        "    return current_value\n",
        "  elif len(calculator_memory) == 0:\n",
        "    print(\"Cannot undo further.\")\n",
        "  else:\n",
        "    calculator_memory.pop()\n",
        "    current_value = calculator_memory[-1]\n",
        "    return current_value"
      ],
      "execution_count": 10,
      "outputs": []
    },
    {
      "cell_type": "markdown",
      "metadata": {
        "id": "q4qWRPPEHyvI",
        "colab_type": "text"
      },
      "source": [
        "### **Testing Of Calculator & Undo Function**"
      ]
    },
    {
      "cell_type": "code",
      "metadata": {
        "id": "Z9l6tps1Hxt1",
        "colab_type": "code",
        "colab": {
          "base_uri": "https://localhost:8080/",
          "height": 204
        },
        "outputId": "623c7cc8-9de7-4092-f903-d422f2b6b2e0"
      },
      "source": [
        "if __name__ == \"__main__\":\n",
        "  current_value = 0                                 #Current Value: 0\n",
        "  calculator_memory = []                            #Calculator's memory = []\n",
        "  c_memory()                                        #Saved to memory. calculator_memory = [0]\n",
        "  print(\"Current value: \" + str(current_value))\n",
        "  add(5)                                            #Current Value: 0 + 5 = 5\n",
        "  c_memory()                                        #Saved to memory. calculator_memory = [0, 5]\n",
        "  subtract(2)                                       #Current Value: 5 - 2 = 3\n",
        "  c_memory()                                        #Saved to memory. calculator_memory = [0, 5, 3]\n",
        "  multiplication(10)                                #Current Value: 3*10 = 30\n",
        "  c_memory()                                        #Saved to memory. calculator_memory = [0, 5, 3, 30]\n",
        "  division(3)                                       #Current Value: 30/3 = 10\n",
        "  c_memory()                                        #Saved to memory. calculator_memory = [0, 5, 3, 30, 10]\n",
        "  undo()                                            #Current Value: 30 and calculator_memory = [0, 5, 3, 30]\n",
        "  display_current_value()                           #Current Value: 30\n",
        "  undo()                                            #Current Value: 3 and calculator_memory = [0, 5, 3]\n",
        "  display_current_value()                           #Current Value: 3\n",
        "  recall()                                          #Current Value: 3 and calculator_memory = [0, 5, 3]\n",
        "  display_current_value()                           #Current Value: 3\n",
        "  undo()                                            #Current Value: 5 and calculator_memory = [0, 5]\n",
        "  display_current_value()                           #Current Value: 5\n",
        "  undo()                                            #Current Value: 0 and calculator_memory = [0]\n",
        "  display_current_value                             #Current Value: 0\n",
        "  undo()                                            #Current Value: 0 and calculator_memory = []. Since calculator_memory = [], we cannot undo further. Current value remains the same.\n",
        "  display_current_value()                           #Current Value: 0             "
      ],
      "execution_count": 11,
      "outputs": [
        {
          "output_type": "stream",
          "text": [
            "Current value: 0\n",
            "Current value: 5\n",
            "Current value: 3\n",
            "Current value: 30\n",
            "Current value: 10.0\n",
            "Current value: 30\n",
            "Current value: 3\n",
            "Current value: 3\n",
            "Current value: 5\n",
            "Cannot undo further. Current value remains the same.\n",
            "Current value: 0\n"
          ],
          "name": "stdout"
        }
      ]
    }
  ]
}