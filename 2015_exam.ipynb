{
 "metadata": {
  "language_info": {
   "codemirror_mode": {
    "name": "ipython",
    "version": 3
   },
   "file_extension": ".py",
   "mimetype": "text/x-python",
   "name": "python",
   "nbconvert_exporter": "python",
   "pygments_lexer": "ipython3",
   "version": "3.7.6-final"
  },
  "orig_nbformat": 2,
  "kernelspec": {
   "name": "python3",
   "display_name": "Python 3"
  }
 },
 "nbformat": 4,
 "nbformat_minor": 2,
 "cells": [
  {
   "source": [
    "# 2015 Exam\n",
    "\n",
    "## Question 1. [15 marks]\n",
    "\n",
    "### Part (a) [12 marks]\n",
    "\n",
    "Write a function with the signature `is_sorted(L)` which takes in a list of ints `L`, and returns `True` iff the list `L` is sorted, in either non-increasing or non-decreasing order. For example,\n",
    "\n",
    "`is_sorted([4, 5, 6, 1, 2, 3, 7])` should return `False`,\n",
    "\n",
    "`is_sorted([4, 5, 5, 6])` should return `True`,\n",
    "\n",
    "`is_sorted([6, 3])` should return `True`,\n",
    "\n",
    "`is_sorted([])` should return `True`."
   ],
   "cell_type": "markdown",
   "metadata": {}
  },
  {
   "cell_type": "code",
   "execution_count": 7,
   "metadata": {},
   "outputs": [
    {
     "output_type": "stream",
     "name": "stdout",
     "text": [
      "False\nTrue\nTrue\nTrue\n"
     ]
    }
   ],
   "source": [
    "def is_sorted(L):\n",
    "    copy_L = L[:]\n",
    "    if L == sorted(copy_L):  #Note, this takes care of the non-decreasing case and the [] case.\n",
    "        return True\n",
    "    elif L == reversed(sorted(copy_L)):\n",
    "        return True\n",
    "    return False\n",
    "\n",
    "\n",
    "def is_sorted(L):\n",
    "    if len(L) == 0 or len(L) == 1 or len(L) == 2:\n",
    "        return True\n",
    "    else:\n",
    "        if L[len(L)-1] >= L[0]:\n",
    "            if sorted(L) == L:\n",
    "                return True\n",
    "        else:\n",
    "            temp = reversed(L)\n",
    "            if sorted(temp) == temp:\n",
    "                return True\n",
    "        return False\n",
    "\n",
    "#Tests\n",
    "print(is_sorted([4, 5, 6, 1, 2, 3, 7]))\n",
    "print(is_sorted([4, 5, 5, 6]))\n",
    "print(is_sorted([6, 3])) #PRODUCING WRONG OUTPUT HERE\n",
    "print(is_sorted([]))"
   ]
  },
  {
   "cell_type": "code",
   "execution_count": 9,
   "metadata": {},
   "outputs": [
    {
     "output_type": "stream",
     "name": "stdout",
     "text": [
      "False\nTrue\nTrue\nTrue\n"
     ]
    }
   ],
   "source": [
    "def is_sorted(L):\n",
    "    if len(L) < 2:\n",
    "        return True\n",
    "\n",
    "    for i in range(len(L)-1):\n",
    "        if L[i] < L[i+1]:\n",
    "            key = \"increasing\"\n",
    "            break\n",
    "        if L[i] > L[i+1]:\n",
    "            key = \"decreasing\"\n",
    "            break\n",
    "\n",
    "    if key == \"increasing\":\n",
    "        for i in range(len(L)-1):\n",
    "            if L[i] > L[i+1]:\n",
    "                return False\n",
    "    elif key == \"decreasing\":\n",
    "        for i in range(len(L)-1):\n",
    "            if L[i] < L[i+1]:\n",
    "                return False\n",
    "    return True\n",
    "\n",
    "\n",
    "#Tests\n",
    "print(is_sorted([4, 5, 6, 1, 2, 3, 7]))\n",
    "print(is_sorted([4, 5, 5, 6]))\n",
    "print(is_sorted([6, 3])) #\n",
    "print(is_sorted([]))"
   ]
  },
  {
   "cell_type": "code",
   "execution_count": 15,
   "metadata": {},
   "outputs": [
    {
     "output_type": "stream",
     "name": "stdout",
     "text": [
      "False\nTrue\nTrue\nTrue\n"
     ]
    }
   ],
   "source": [
    "def is_sorted(L):\n",
    "    return L in [sorted(L), sorted(L, reverse = True)]\n",
    "\n",
    "\n",
    "#Tests\n",
    "print(is_sorted([4, 5, 6, 1, 2, 3, 7]))\n",
    "print(is_sorted([4, 5, 5, 6]))\n",
    "print(is_sorted([6, 3])) #\n",
    "print(is_sorted([]))"
   ]
  },
  {
   "source": [
    "### Part (b) [3 marks]\n",
    "\n",
    "What is the tight asymptotic bound on the worst-case runtime complexity of the function you wrote in\n",
    "Part (a)? Use Big O notation. You should assume that all the ints are smaller than 32, 000.\n",
    "\n",
    "There is a for loop traversing the list once\n",
    "\n",
    "Since the ints are smaller than 32,000, therefore all basic math operations are assumed to run in constant time.\n",
    "\n"
   ],
   "cell_type": "markdown",
   "metadata": {}
  },
  {
   "source": [
    "## Question 2. [15 marks]\n",
    "Write a function with the signature euc_distance(u, v) which computes the Euclidean distance between\n",
    "the endpoints of the two sparse vectors u and v. Reminder: we store sparse vectors using dictionaries, with\n",
    "only the non-zero entries being stored. For example, [4, 5, 0, 10, 0] is stored as {1:4, 2:5, 4:10}.\n",
    "The Euclidean distance between the endpoints of the vectors [u1, u2, u3, ..., uk] and [v1, v2, v3, ..., vk] is"
   ],
   "cell_type": "markdown",
   "metadata": {}
  },
  {
   "cell_type": "code",
   "execution_count": null,
   "metadata": {},
   "outputs": [],
   "source": [
    "def euc_distance(u, v):\n",
    "    #blank list initialization\n",
    "    vec1 = [0]*(max(u.keys()))\n",
    "    vec2 = [0]*(max(v.keys()))\n",
    "\n",
    "    #check for same length\n",
    "    if len(vec1) < len(vec2):\n",
    "        while len\n",
    "\n",
    "#Tests:\n",
    "u = {1:4, 2:5, 4:10}"
   ]
  },
  {
   "cell_type": "code",
   "execution_count": 31,
   "metadata": {},
   "outputs": [
    {
     "output_type": "stream",
     "name": "stdout",
     "text": [
      "14.212670403551895\n"
     ]
    }
   ],
   "source": [
    "def euc_distance(u, v):\n",
    "    #blank list initialization\n",
    "    vec1 = [0]*(max(u.keys()))\n",
    "    vec2 = [0]*(max(v.keys()))\n",
    "\n",
    "    #ensuring same lengths\n",
    "    if len(vec1) < len(vec2):\n",
    "        while len(vec1) != len(vec2):\n",
    "            vec1.append(0)\n",
    "    elif len(vec1) > len(vec2):\n",
    "        while len(vec1) != len(vec2):\n",
    "            vec2.append(0)\n",
    "    #getting the sparse array\n",
    "    for keys, values in u.items():\n",
    "        vec1[keys - 1] = values\n",
    "    for keys, values in v.items():\n",
    "        vec2[keys - 1] = values\n",
    "    #distance formula\n",
    "    dist = 0\n",
    "    for i in range(len(vec1)):\n",
    "        dist += (vec1[i] - vec2[i])**2\n",
    "    \n",
    "    return dist**(1/2)\n",
    "\n",
    "u = {1:4, 2:5, 4:10}\n",
    "v = {1:5, 2:4, 3:10, 4:20}\n",
    "print(euc_distance(u, v))"
   ]
  },
  {
   "cell_type": "code",
   "execution_count": 35,
   "metadata": {},
   "outputs": [
    {
     "output_type": "stream",
     "name": "stdout",
     "text": [
      "14.212670403551895\n"
     ]
    }
   ],
   "source": [
    "def euc_distance(u, v):\n",
    "    indicies = list(u.keys()) + list(v.keys())\n",
    "    top = max(indicies)\n",
    "    bottom = min(indicies)\n",
    "    d = 0\n",
    "    for i in range(bottom, top+1):\n",
    "        d += (u.get(i, 0) - v.get(i, 0))**2\n",
    "    return d**(0.5)\n",
    "\n",
    "u = {1:4, 2:5, 4:10}\n",
    "v = {1:5, 2:4, 3:10, 4:20}\n",
    "print(euc_distance(u, v))"
   ]
  },
  {
   "source": [
    "## Question 3. [20 marks]\n",
    "\n",
    "Write a function with the signature `movies_by_release_date(movies)` which takes in a dictionary whose\n",
    "keys are movie names and whose values are release dates, and which returns a list of movie names, in order\n",
    "from the most recent release date to the earliest release date. The release dates are either in the format\n",
    "`\"<year>, in <location>\"`, or in the format `\"a long time ago, in <location>\"`. Any movies released\n",
    "`\"a long time ago\"` were released before the movies for which the year is indicated. Movies released at\n",
    "the same time can be placed in the list in any order.\n",
    "\n",
    "For example, if movies equals\n",
    "\n",
    "```\n",
    "{\"Dude, Where’s My Death Star\": \"a long time ago, in a galaxy far far away\",\n",
    "\"Star Wars: The Force Awakens\": \"2015, in Los Angeles\",\n",
    "\"Star Wars\": \"1977, in Los Angeles\",\n",
    "\"Sleepless in Aldera\": \"a long time ago, in Alderaan City\",\n",
    "\"Jurassic World\": \"2015, in New York\"},\n",
    "```\n",
    "\n",
    "`movies_by_release_year(movies)` can return\n",
    "```\n",
    "[\"Jurassic World\", \"Star Wars: The Force Awakens\", \"Star Wars\",\n",
    "\"Sleepless in Aldera\", \"Dude, Where’s My Death Star\" ].\n",
    "```\n",
    "\n",
    "**Part marks may be given for clearly-documented helper functions accompanied by clear and concise\n",
    "explanations of how they would help with the overall solution.** However, as with the other questions, full\n",
    "marks can be given for correct solutions that are not commented or separated into functions."
   ],
   "cell_type": "markdown",
   "metadata": {}
  },
  {
   "cell_type": "code",
   "execution_count": 52,
   "metadata": {},
   "outputs": [
    {
     "output_type": "stream",
     "name": "stdout",
     "text": [
      "[(0, 'Dude, Where’s My Death Star'), (2015, 'Star Wars: The Force Awakens'), (1977, 'Star Wars'), (0, 'Sleepless in Aldera'), (2015, 'Jurassic World')]\n[(0, 'Dude, Where’s My Death Star'), (2015, 'Star Wars: The Force Awakens'), (1977, 'Star Wars'), (0, 'Sleepless in Aldera'), (2015, 'Jurassic World')]\n"
     ]
    }
   ],
   "source": [
    "movies = {\"Dude, Where’s My Death Star\": \"a long time ago, in a galaxy far far away\",\n",
    "\"Star Wars: The Force Awakens\": \"2015, in Los Angeles\",\n",
    "\"Star Wars\": \"1977, in Los Angeles\",\n",
    "\"Sleepless in Aldera\": \"a long time ago, in Alderaan City\",\n",
    "\"Jurassic World\": \"2015, in New York\"}\n",
    "\n",
    "\n",
    "\n",
    "\n",
    "\n",
    "def filter_dict(movies):\n",
    "    '''Return an unsorted list of tuples with the name of the movies \n",
    "    and their release date. Note: A long time ago has a release date of 0.'''\n",
    "    movie_list = []\n",
    "    for key, value in movies.items():\n",
    "        #turns the dict value into a tuple: (\"a long time ago\", \"in ...\"\")\n",
    "        if tuple(value.split(\",\"))[0] == \"a long time ago\": \n",
    "            movie_list.append((1000000, key))\n",
    "        else:\n",
    "            year = int(tuple(value.split(\",\"))[0])\n",
    "            movie_list.append((year, key))\n",
    "    return movie_list\n",
    "\n",
    "print(filter_dict(movies))\n",
    "\n",
    "def movies_by_release_date(movies):\n",
    "    movie_list = filter_dict(movies)\n",
    "    sorted(movie_list)\n",
    "    #print(movie_list)\n",
    "    return movie_list\n",
    "            \n",
    "print(movies_by_release_date(movies))"
   ]
  },
  {
   "cell_type": "code",
   "execution_count": 40,
   "metadata": {},
   "outputs": [
    {
     "output_type": "execute_result",
     "data": {
      "text/plain": [
       "'a long time ago'"
      ]
     },
     "metadata": {},
     "execution_count": 40
    }
   ],
   "source": []
  },
  {
   "cell_type": "code",
   "execution_count": 43,
   "metadata": {},
   "outputs": [
    {
     "output_type": "error",
     "ename": "TypeError",
     "evalue": "tuple expected at most 1 arguments, got 2",
     "traceback": [
      "\u001b[0;31m---------------------------------------------------------------------------\u001b[0m",
      "\u001b[0;31mTypeError\u001b[0m                                 Traceback (most recent call last)",
      "\u001b[0;32m<ipython-input-43-c182bb8c5da1>\u001b[0m in \u001b[0;36m<module>\u001b[0;34m\u001b[0m\n\u001b[0;32m----> 1\u001b[0;31m \u001b[0mtuple\u001b[0m\u001b[0;34m(\u001b[0m\u001b[0;36m0\u001b[0m\u001b[0;34m,\u001b[0m \u001b[0;36m1\u001b[0m\u001b[0;34m)\u001b[0m\u001b[0;34m\u001b[0m\u001b[0;34m\u001b[0m\u001b[0m\n\u001b[0m",
      "\u001b[0;31mTypeError\u001b[0m: tuple expected at most 1 arguments, got 2"
     ]
    }
   ],
   "source": []
  },
  {
   "cell_type": "code",
   "execution_count": 44,
   "metadata": {},
   "outputs": [
    {
     "output_type": "stream",
     "name": "stdout",
     "text": [
      "[(1, 2)]\n"
     ]
    }
   ],
   "source": [
    "a = []\n",
    "a.append((1,2))\n",
    "print(a)"
   ]
  },
  {
   "cell_type": "code",
   "execution_count": 53,
   "metadata": {},
   "outputs": [
    {
     "output_type": "stream",
     "name": "stdout",
     "text": [
      "[1, 2, inf, 3]\n"
     ]
    }
   ],
   "source": [
    "a = [1, 2, float(\"inf\"), 3]\n",
    "sorted(a)\n",
    "print(a)"
   ]
  },
  {
   "cell_type": "code",
   "execution_count": null,
   "metadata": {},
   "outputs": [],
   "source": []
  }
 ]
}