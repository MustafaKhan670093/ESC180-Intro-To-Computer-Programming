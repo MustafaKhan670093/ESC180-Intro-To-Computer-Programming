{
 "metadata": {
  "language_info": {
   "codemirror_mode": {
    "name": "ipython",
    "version": 3
   },
   "file_extension": ".py",
   "mimetype": "text/x-python",
   "name": "python",
   "nbconvert_exporter": "python",
   "pygments_lexer": "ipython3",
   "version": "3.7.6-final"
  },
  "orig_nbformat": 2,
  "kernelspec": {
   "name": "python3",
   "display_name": "Python 3"
  }
 },
 "nbformat": 4,
 "nbformat_minor": 2,
 "cells": [
  {
   "source": [
    "# 2016 Exam"
   ],
   "cell_type": "markdown",
   "metadata": {}
  },
  {
   "source": [
    "## Question 1. [15 marks]\n",
    "\n",
    "### Part (a) [12 marks]\n",
    "\n",
    "Write a function with the signature `insert(L, e)` which takes in a list of floats `L`, which is sorted in\n",
    "non-decreasing order, and returns a new list which is also sorted in non-decreasing order, and contains all\n",
    "the elements of `L` as well as the float `e`. Here are some examples:\n",
    "\n",
    "`insert([3.0, 4.0, 5.0], 3.5)` should return `[3.0, 3.5, 4.0, 5.0]`.\n",
    "\n",
    "`insert([2.0, 5.0], 7.0)` should return `[2.0, 5.0, 7.0]`.\n",
    "\n",
    "`insert([], 42.0)` should return `[42.0]`."
   ],
   "cell_type": "markdown",
   "metadata": {}
  },
  {
   "cell_type": "code",
   "execution_count": 102,
   "metadata": {},
   "outputs": [
    {
     "output_type": "stream",
     "name": "stdout",
     "text": [
      "[3.0, 3.5, 4.0, 5.0]\n[2.0, 5.0, 7.0]\n[42.0]\n"
     ]
    }
   ],
   "source": [
    "#Complexity: O(n log n)\n",
    "def insert(L, e):\n",
    "    copy_L = L[:] #Creating a deep copy of L so we don't modify the input\n",
    "    copy_L.append(e)\n",
    "    l = sorted(copy_L)\n",
    "    return l\n",
    "#Tests\n",
    "print(insert([3.0, 4.0, 5.0], 3.5))\n",
    "print(insert([2.0, 5.0], 7.0))\n",
    "print(insert([], 42.0))\n",
    "\n",
    "#Confused about solution? Read up on this: https://stackoverflow.com/questions/22442378/what-is-the-difference-between-sortedlist-vs-list-sort#:~:text=sort()%20sorts%20the%20list,without%20changing%20the%20original%20list.\n",
    "#and https://github.com/guerzh/esc180lec/blob/master/week4/Lists%20IV.ipynb"
   ]
  },
  {
   "source": [
    "### Part (b) [3 marks]\n",
    "\n",
    "What is the tight asymptotic bound on the worst-case runtime complexity of the function you wrote in\n",
    "Part (a)? Use Big O notation.\n",
    "\n",
    "***Answer***\n",
    "\n",
    "**The solution to Part (a) requires the sorted function, which has a worst-case runtime complexity of $O(n\\log{}n)$. Therefore, $O(n\\log{}n)$ is the tight asymptotic bound on the worst-case runtime complexity of the solution in Part (a).**"
   ],
   "cell_type": "markdown",
   "metadata": {}
  },
  {
   "source": [
    "## Question 2. [15 marks]\n",
    "\n",
    "Santa wants to select gifts for an EngSci student. Santa has two dictionaries: a dictionary that records the\n",
    "rating of how good a gift would be for the student (on a scale of 1-5), and a dictionary that records the\n",
    "rating of how much the student wants the gift (on a scale of 1-5). The rating of a gift which is not\n",
    "in either of the dictionaries is considered to be 0. Santa wants to select the gifts with the maximal\n",
    "possible combined rating, where the combined rating is the sum of the rating of how good the gift would\n",
    "be for the student and the rating of how much the student wants the gift. For example, the dictionaries\n",
    "can be:\n",
    "\n",
    "`good_ratings = {\"Calc textbook\": 5, \"iPhone\": 1, \"Alarm clock\": 4, \"Notebooks\": 4}`\n",
    "\n",
    "`want_ratings = {\"iPhone\": 4, \"A+ in CSC\": 5, \"Calc textbook\": 4, \"Notebooks\": 5}`\n",
    "\n",
    "Here, the gifts Santa wants to select are `\"Calc textbook\"` and `\"Notebooks\"`, since the combined rating\n",
    "for them is `5+4=9`, larger than any other one. The combined rating of `\"Alarm clock\"` is `4+0=4`.\n",
    "\n",
    "Write a function with the signature `select_gifts(good_ratings, want_ratings)` that returns a list\n",
    "of all the gifts which have the highest combined rating of all the gifts, sorted in alphabetical order.\n",
    "\n",
    "For example, for `good_ratings` and `want_ratings` as defined above,\n",
    "\n",
    "`select_gifts(good_ratings, want_ratings)` should return `[\"Calc textbook\", \"Notebooks\"]`."
   ],
   "cell_type": "markdown",
   "metadata": {}
  },
  {
   "cell_type": "code",
   "execution_count": 56,
   "metadata": {},
   "outputs": [
    {
     "output_type": "execute_result",
     "data": {
      "text/plain": [
       "['Calc textbook', 'Notebooks']"
      ]
     },
     "metadata": {},
     "execution_count": 56
    }
   ],
   "source": [
    "def select_gifts(good_ratings, want_ratings):\n",
    "    final_gift_list = [0] #The highest scoring gifts will be stored here\n",
    "    best_score = 0 #The best score so far. This will be updated as the program runs\n",
    "\n",
    "    for item in set(good_ratings) | set(want_ratings): #This gives a unique list of gifts in both dictionaries\n",
    "        good_rating = int(0 if good_ratings.get(item) is None else good_ratings.get(item)) #Good score\n",
    "        want_rating = int(0 if want_ratings.get(item) is None else want_ratings.get(item)) #Want score\n",
    "        total_score = good_rating + want_rating #combination of both want and good scores\n",
    "        \n",
    "        #Checks to see whether we have found a high scoring gift or an equal scoring gift\n",
    "        if total_score > best_score:\n",
    "            best_score = total_score #If a high scoring gift is found, the previous score is appended\n",
    "            final_gift_list[-1] = item\n",
    "        elif total_score == best_score: #Best score doesn't need to be changed here\n",
    "            final_gift_list.append(item)\n",
    "    return final_gift_list\n",
    "\n",
    "#Test\n",
    "good_ratings = {\"Calc textbook\": 5, \"iPhone\": 1, \"Alarm clock\": 4, \"Notebooks\": 4}\n",
    "want_ratings = {\"iPhone\": 4, \"A+ in CSC\": 5, \"Calc textbook\": 4, \"Notebooks\": 5}\n",
    "select_gifts(good_ratings, want_ratings)"
   ]
  },
  {
   "source": [
    "## Question 3. [15 marks]\n",
    "\n",
    "In Python, you can use a list of lists to store a matrix, with each inner list representing a row. For example, you can store the matrix\n",
    "\n",
    "$$\\begin{pmatrix} 5 & 6 & 7 \\\\ 0 & -3 & 5 \\end{pmatrix}$$\n",
    "\n",
    "\n",
    "by storing each row as a list: `M = [[5, 6, 7], [0, -3, 5]]`.\n",
    "\n",
    "Complete the following function. The function takes in a matrix `M` in a list-of-lists format. The matrix\n",
    "returns the transposed version of `M`, in a list-of-lists format. For example,\n",
    "`transpose([[5, 6, 7], [0, -3, 5]])` should return `[[5, 0], [6, -3], [7, 5]]`."
   ],
   "cell_type": "markdown",
   "metadata": {}
  },
  {
   "cell_type": "code",
   "execution_count": 61,
   "metadata": {},
   "outputs": [
    {
     "output_type": "stream",
     "name": "stdout",
     "text": [
      "[[5, 0], [6, -3], [7, 5]]\n"
     ]
    }
   ],
   "source": [
    "def transpose(M):\n",
    "  '''Transpose a matrix.'''\n",
    "  result = [[M[j][i] for j in range(len(M))] for i in range(len(M[0]))]\n",
    "  return result\n",
    "\n",
    "#Test\n",
    "print(transpose([[5, 6, 7], [0, -3, 5]]))"
   ]
  },
  {
   "source": [
    "## Question 4. [5 marks]\n",
    "\n",
    "Write a recursive function with the signature `max_rec(L)` which takes in a list of ints `L`, and returns the\n",
    "largest element in the list. You may not use loops, global variables, or Python’s max(), sorted() and\n",
    "sort() functions. You may use slicing.\n",
    "\n",
    "For example, `max_rec([103, 180, 101, 102, 180])` should return `180`."
   ],
   "cell_type": "markdown",
   "metadata": {}
  },
  {
   "cell_type": "code",
   "execution_count": 80,
   "metadata": {},
   "outputs": [
    {
     "output_type": "stream",
     "name": "stdout",
     "text": [
      "180\n190\n"
     ]
    }
   ],
   "source": [
    "def max_rec(L):\n",
    "    if len(L) == 1:\n",
    "        return L[0]\n",
    "\n",
    "    if L[-1] >= L[0]:\n",
    "        L = L[1:]\n",
    "        return max_rec(L)\n",
    "    else:\n",
    "        L = L[0:-1]\n",
    "        return max_rec(L)\n",
    "\n",
    "#Tests\n",
    "print(max_rec([103, 180, 101, 102, 180]))\n",
    "print(max_rec([190, 180, 101, 102, 180]))"
   ]
  },
  {
   "source": [
    "## Question 5. [10 marks]\n",
    "\n",
    "Write a recursive function with the signature is_fib(L) which takes in a list of ints L, and returns True\n",
    "if L is the start of the Fibonacci sequence, and False otherwise. For example:\n",
    "\n",
    "`is_fib([1, 1, 2, 3, 5])` should return `True`.\n",
    "\n",
    "`is_fib([1, 1, 2, 3, 5, 8, 13])` should return `True`.\n",
    "\n",
    "`is_fib([5, 8, 13])` should return `False`.\n",
    "\n",
    "`is_fib([1, 1, 1])` should return `False`.\n",
    "\n",
    "`is_fib([])` should return `True`.\n",
    "\n",
    "You may not use helper functions, loops or global variables. You may use slicing.\n",
    "\n",
    "Reminder: $fib(n + 2) = fib(n + 1) + fib(n)$, $fib(1) = fib(2) = 1$."
   ],
   "cell_type": "markdown",
   "metadata": {}
  },
  {
   "cell_type": "code",
   "execution_count": 85,
   "metadata": {},
   "outputs": [
    {
     "output_type": "stream",
     "name": "stdout",
     "text": [
      "True\nTrue\nFalse\nFalse\nTrue\n"
     ]
    }
   ],
   "source": [
    "def is_fib(L):\n",
    "    if len(L) == 0:\n",
    "        return True\n",
    "    if len(L) == 1:\n",
    "        return L == [1]\n",
    "    if len(L) == 2:\n",
    "        return L == [1, 1]\n",
    "\n",
    "    return L[-1] == L[-2] + L[-3] and is_fib(L[:-1]) \n",
    "\n",
    "#Tests\n",
    "print(is_fib([1, 1, 2, 3, 5]))\n",
    "print(is_fib([1, 1, 2, 3, 5, 8, 13]))\n",
    "print(is_fib([5, 8, 13]))\n",
    "print(is_fib([1, 1, 1]))\n",
    "print(is_fib([]))"
   ]
  },
  {
   "source": [
    "## Question 6. [8 marks]\n",
    "\n",
    "Each of the subquestions in this question contains a piece of code. Treat each piece of code independently\n",
    "(i.e., code in one question is not related to code in another), and write the expected output for each\n",
    "piece of code. If the code produces an error, write down the output that the code prints before the error\n",
    "is encountered, and then write “ERROR.” You do not have to specify what kind of error it is.\n",
    "\n",
    "### Part (a) [2 marks]\n",
    "\n",
    "```\n",
    "A = [[1, 2], [3, 4]]\n",
    "A[0] = A[1]             #A = [[3, 4], [3, 4]]\n",
    "B = A[:][0]             #B = [3, 4]\n",
    "B[0] = 5                #B = [5, 4]\n",
    "print(A)                #A = [[5, 4], [5, 4]]\n",
    "```\n",
    "\n",
    "### Part (b) [2 marks]\n",
    "```\n",
    "def f():\n",
    "    L[0] = 5\n",
    "L = [1, 2]\n",
    "print(f(L))             #ERROR (no positional argument in function)\n",
    "print(L)                #L = [1, 2] Note: This does not actually get printed out after the error is raised.\n",
    "```\n",
    "\n",
    "### Part (c) [2 marks]\n",
    "```\n",
    "def f(L, M):\n",
    "    L = M\n",
    "    L[0] = 3\n",
    "M = [1, 2]\n",
    "L = [3, 4]\n",
    "f(L, M)                 #L = [3, 2]\n",
    "print(M[0])             #3\n",
    "```\n",
    "\n",
    "### Part (d) [2 marks]\n",
    "```\n",
    "s1 = \"HO HO HO\"\n",
    "s2 = s1\n",
    "s1 = \"Happy Holidays!\"\n",
    "print(s2)               #\"HO HO HO\"\n",
    "```"
   ],
   "cell_type": "markdown",
   "metadata": {}
  },
  {
   "source": [
    "## Question 7. [8 marks]\n",
    "\n",
    "The left-hand column in the table below contains different pieces of code that work with integer n. In the\n",
    "right-hand column, give the asymptotic tight upper bound on the worst-case runtime complexity of each\n",
    "piece of code, using Big O notation. Assume that arithmetic operations such as + and ** take contstant\n",
    "time.\n",
    "\n",
    "The following lines of code has a worst-case runtime complexity of $O(n^2)$\n",
    "```\n",
    "total, i = 0.0, 0\n",
    "for i in range(n):\n",
    "    for j in range(i//2):\n",
    "        total += i\n",
    "```\n",
    "\n",
    "The following lines of code has a worst-case runtime complexity of $O(n^2)$\n",
    "```\n",
    "i, j, sum = 1, 1, 0\n",
    "while i < n**3:\n",
    "    while j < n:\n",
    "        sum = sum + i\n",
    "        j += 1\n",
    "    i += n\n",
    "```\n",
    "\n",
    "The following lines of code has a worst-case runtime complexity of $O(n)$\n",
    "```\n",
    "def f(n):\n",
    "    if n == 0:\n",
    "        return 1\n",
    "    return f(n//2) + f(n//2)\n",
    "\n",
    "if __name__ == \"__main__\":\n",
    "    f(n)\n",
    "```\n",
    "\n",
    "The following lines of code has a worst-case runtime complexity of $O(1)$\n",
    "```\n",
    "def f(n):\n",
    "    i, total = 0, 0.0\n",
    "    while (i < n) and ((i % 10000) != 0):\n",
    "        total += i\n",
    "        i += 1\n",
    "if __name__ == \"__main__\":\n",
    "    f(n)\n",
    "```"
   ],
   "cell_type": "markdown",
   "metadata": {}
  },
  {
   "source": [
    "## Question 8. [7 marks]\n",
    "\n",
    "Consider the following code\n",
    "```\n",
    "def mystery_helper(L, k):\n",
    "    p = max(L[0], L[-1])\n",
    "    L1 = []\n",
    "    L2 = []\n",
    "\n",
    "    for e in L:\n",
    "        if e < p:\n",
    "            L1.append(e)\n",
    "        else:\n",
    "            L2.append(e)\n",
    "    \n",
    "    if len(L1) > k:\n",
    "        return mystery_helper(L1, k)\n",
    "    elif len(L1) < k:\n",
    "        return mystery_helper(L2, k-len(L1))\n",
    "    else:\n",
    "        return p\n",
    "\n",
    "def mystery(L):\n",
    "    return mystery_helper(L, len(L)//2)\n",
    "```\n",
    "### Part (a) [4 marks]\n",
    "\n",
    "State clearly and concisely what `mystery_helper(L, k)` returns.\n",
    "\n",
    "**The function returns the `(k+1)`st smallest element in the list, `L`.**\n",
    "\n",
    "### Part (b) [3 marks]\n",
    "\n",
    "What is the tight asymptotic upper bound on the worst-case runtime complexity of `mystery(L)`, where\n",
    "`n = len(L)`? Use Big O notation. Explain how you got your answer to this subquestion. You may assume\n",
    "that `L` is a list of floats.\n",
    "\n",
    "**The following lines of code has a worst-case runtime complexity of $\\mathbf{O(n^2)}$.**"
   ],
   "cell_type": "markdown",
   "metadata": {}
  },
  {
   "source": [
    "## Question 9. [10 marks]\n",
    "\n",
    "A timestamp is a tuple consisting of two integers, with the first one denoting the hour in the day (between 0\n",
    "and 23), and the second one denoting the minute (between 0 and 59). The timestamp (5, 10) corresponds\n",
    "to 5:10AM, the timestamp (13, 25) corresponds to 1:25PM, and so on. Write a function with the signature\n",
    "`sorted_timestamps(timestamps)` that takes in a list of timestamps, and returns a sorted version of that\n",
    "list, with the sorting done from earlier to later timestamps. The function must run in $O(n)$ time,\n",
    "where $n = len(timestamps)$. For example,\n",
    "\n",
    "`sorted_timestamps([(5, 10), (2, 40), (22, 59), (5, 10)])`\n",
    "\n",
    "should return `[(2, 40), (5, 10), (5, 10), (22, 59)]`."
   ],
   "cell_type": "markdown",
   "metadata": {}
  },
  {
   "cell_type": "code",
   "execution_count": 124,
   "metadata": {},
   "outputs": [
    {
     "output_type": "execute_result",
     "data": {
      "text/plain": [
       "[(2, 40), (5, 10), (5, 11), (22, 59)]"
      ]
     },
     "metadata": {},
     "execution_count": 124
    }
   ],
   "source": [
    "#Prof's solution\n",
    "def sorted_timestamps(timestamps):\n",
    "    counts = [0]*60*24\n",
    "    for t in timestamps:\n",
    "        counts[t[0]*60+t[1]] += 1\n",
    "    res = []\n",
    "    for m in range(60*24):\n",
    "        res.extend( [(m//60, m%60)]*counts[m])\n",
    "        \n",
    "    return res\n",
    "sorted_timestamps([(5, 10), (2, 40), (22, 59), (5, 11)])\n"
   ]
  },
  {
   "cell_type": "code",
   "execution_count": 126,
   "metadata": {},
   "outputs": [
    {
     "output_type": "execute_result",
     "data": {
      "text/plain": [
       "[(2, 40), (5, 10), (5, 11), (22, 59)]"
      ]
     },
     "metadata": {},
     "execution_count": 126
    }
   ],
   "source": [
    "#More readable solution\n",
    "def sorted_timestamps(L):\n",
    "    '''This is a least-significant-digit (by minute then hour) radix sort.\n",
    "            60 * n operations: minute_sorted\n",
    "            24 * n operations: hour_sorted\n",
    "    Therefore, complexity = O(n)'''\n",
    "\n",
    "    minute_sorted = []\n",
    "    for minute in range(60):\n",
    "        for stamp in L:\n",
    "            if stamp[1] == minute:\n",
    "                minute_sorted.append(stamp)\n",
    "                \n",
    "    hour_sorted = []\n",
    "    for hour in range(24):\n",
    "        for stamp in minute_sorted:\n",
    "            if stamp[0] == hour:\n",
    "                hour_sorted.append(stamp)\n",
    "    return hour_sorted\n",
    "    \n",
    "sorted_timestamps([(5, 10), (2, 40), (22, 59), (5, 11)])\n"
   ]
  },
  {
   "source": [
    "## Question 10. [7 marks]\n",
    "\n",
    "We can use a dictionary to record who is friends with whom by recording the lists of friends in a dictionary.\n",
    "For example:\n",
    "\n",
    "```\n",
    "friends = {\"Carl Gauss\": [\"Isaac Newton\", \"Gottfried Leibniz\", \"Charles Babbage\"],\n",
    "            \"Gottfried Leibniz\": [\"Carl Gauss\"],\n",
    "            \"Isaac Newton\": [\"Carl Gauss\", \"Charles Babbage\"],\n",
    "            \"Ada Lovelace\": [\"Charles Babbage\", \"Michael Faraday\"]}\n",
    "            \"Charles Babbage\": [\"Isaac Newton\", \"Carl Gauss\", \"Ada Lovelace\"],\n",
    "            \"Michael Faraday\"\" [\"Ada Lovelace\"] }\n",
    "```\n",
    "\n",
    "Here, Carl Gauss is friends with Isaac Newton, Gottfried Leibniz, and Charles Babbage. Assume that\n",
    "friendships are symmetric, so that if `X` is friends with `Y`, then it’s guaranteed that `Y` is friends with `X`. \n",
    "\n",
    "A clique is defined as a group of friends where everyone is friends with everyone. For example, Carl Gauss,\n",
    "Isaac Newton, and Charles Babbage form a clique in the example above, since all three are friends with\n",
    "each other. Ada Lovelace and Michael Faraday also form a clique.\n",
    "Write the function `max_clique(friends)`, which takes in a dictionary in the format above, and returns\n",
    "the largest clique that can be found, as a list. (If there are several such cliques, return one of them.) For example, the largest clique in the example above is `[\"Carl Gauss\", \"Isaac Newton\", \"Charles Babbage\"]`,\n",
    "since there is no clique of size larger than `3`."
   ],
   "cell_type": "markdown",
   "metadata": {}
  },
  {
   "cell_type": "code",
   "execution_count": 129,
   "metadata": {},
   "outputs": [
    {
     "output_type": "execute_result",
     "data": {
      "text/plain": [
       "['Carl Gauss', 'Isaac Newton', 'Charles Babbage']"
      ]
     },
     "metadata": {},
     "execution_count": 129
    }
   ],
   "source": [
    "def is_clique(group, friends):\n",
    "    for f in group:\n",
    "        for f1 in group:\n",
    "            if f != f1:\n",
    "                if f1 not in friends[f]:\n",
    "                    return False\n",
    "    return True\n",
    "\n",
    "\n",
    "def get_all_subsets(L):\n",
    "    if len(L) == 0:\n",
    "        return [[]]\n",
    "    all0 = get_all_subsets(L[1:])\n",
    "    res = []\n",
    "    res.extend(all0)\n",
    "    for subset in all0:\n",
    "        res.append([L[0]] + subset)\n",
    "    \n",
    "    return res    \n",
    "\n",
    "def max_clique(friends):\n",
    "    all_subsets = get_all_subsets(list(friends.keys()))\n",
    "    \n",
    "    max_sz = 0\n",
    "    clique = []\n",
    "    for subset in all_subsets:\n",
    "        if is_clique(subset, friends):\n",
    "            if len(subset) > max_sz:\n",
    "                max_sz = len(subset)\n",
    "                clique = subset[:]\n",
    "    return clique\n",
    "\n",
    "#Tests\n",
    "friends = {\"Carl Gauss\": [\"Isaac Newton\", \"Gottfried Leibniz\", \"Charles Babbage\"],\n",
    "            \"Gottfried Leibniz\": [\"Carl Gauss\"],\n",
    "            \"Isaac Newton\": [\"Carl Gauss\", \"Charles Babbage\"],\n",
    "            \"Ada Lovelace\": [\"Charles Babbage\", \"Michael Faraday\"],\n",
    "            \"Charles Babbage\": [\"Isaac Newton\", \"Carl Gauss\", \"Ada Lovelace\"],\n",
    "            \"Michael Faraday\": [\"Ada Lovelace\"] }\n",
    "max_clique(friends)"
   ]
  }
 ]
}