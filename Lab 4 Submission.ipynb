{
  "nbformat": 4,
  "nbformat_minor": 0,
  "metadata": {
    "colab": {
      "name": "Lab 4 Submission.ipynb",
      "provenance": [],
      "authorship_tag": "ABX9TyNUwCMu5Xr7oRzh/bAbqmzJ",
      "include_colab_link": true
    },
    "kernelspec": {
      "name": "python3",
      "display_name": "Python 3"
    },
    "accelerator": "GPU"
  },
  "cells": [
    {
      "cell_type": "markdown",
      "metadata": {
        "id": "view-in-github",
        "colab_type": "text"
      },
      "source": [
        "<a href=\"https://colab.research.google.com/github/MustafaKhan670093/ESC180-Intro-To-Computer-Programming/blob/master/Lab%204%20Submission.ipynb\" target=\"_parent\"><img src=\"https://colab.research.google.com/assets/colab-badge.svg\" alt=\"Open In Colab\"/></a>"
      ]
    },
    {
      "cell_type": "markdown",
      "metadata": {
        "id": "Gg0xNZ8uBliG"
      },
      "source": [
        "# **Mustafa's Lab 4 Submission**\n",
        "\n",
        "The focus of this lap is on writing loops. Find out more information about the lab [here](https://nbviewer.jupyter.org/github/guerzh/esc180lab/blob/master/Lab4.ipynb)  ."
      ]
    },
    {
      "cell_type": "markdown",
      "metadata": {
        "id": "0Gsd7jfaBu8Y"
      },
      "source": [
        "## **Problem 1**\n",
        "\n",
        "Here is a function that computes the sum of a list of numbers.\n",
        "\n",
        "```\n",
        "def sum_nums(L):\n",
        "  s = 0\n",
        "  for num in L:\n",
        "    s += num\n",
        "\n",
        "  return s\n",
        "```\n",
        "\n",
        "Write a function with the signature `def count_evens(L)` that returns the number of even integers in the list L. Assume L only contains integers.\n"
      ]
    },
    {
      "cell_type": "code",
      "metadata": {
        "id": "8iFT9oKKBdfD",
        "outputId": "321c478a-30d2-4755-b559-953f99c012d6",
        "colab": {
          "base_uri": "https://localhost:8080/",
          "height": 34
        }
      },
      "source": [
        "def count_evens(L):\n",
        "  count=0\n",
        "  for i in L:\n",
        "    if i%2 == 0:\n",
        "      count+=1\n",
        "    else:\n",
        "      pass\n",
        "  return count\n",
        "\n",
        "#Testing Code\n",
        "test_list = [1, 2, 3, 4, 5, 6]\n",
        "print(\"There are \" + str(count_evens(test_list)) + \" even numbers in \" + str(test_list))"
      ],
      "execution_count": 1,
      "outputs": [
        {
          "output_type": "stream",
          "text": [
            "There are 3 even numbers in [1, 2, 3, 4, 5, 6]\n"
          ],
          "name": "stdout"
        }
      ]
    },
    {
      "cell_type": "markdown",
      "metadata": {
        "id": "UnhsYiSxDErs"
      },
      "source": [
        "## **Problem 2**\n",
        "\n",
        "Without using str() with arguments that are lists (using it with arguments that are not lists is fine), write a function with the signature list_to_str(lis) which returns the string representation of the list lis. You may assume lis only contains integers."
      ]
    },
    {
      "cell_type": "code",
      "metadata": {
        "id": "mADm3vDNCZtO",
        "outputId": "e4509241-936b-4437-9b3d-632a37a48989",
        "colab": {
          "base_uri": "https://localhost:8080/",
          "height": 34
        }
      },
      "source": [
        "def list_to_str(lis):\n",
        "  final_string = \"[\"\n",
        "  for i in lis:\n",
        "    final_string = final_string + str(i) + \", \"   #This line adds the number in the list to final_string with a comma\n",
        "  final_string = final_string[:-2]                #This removes the final comma and the space at the end of the list. Without it the output in the next line would look like: [1, 2, 3, ]\n",
        "  final_string = final_string + \"]\"               #This adds the final bracket of the list.\n",
        "  return final_string\n",
        "\n",
        "#Testing The Function\n",
        "test_list = [1, 2, 3]\n",
        "print(list_to_str(test_list))\n"
      ],
      "execution_count": 2,
      "outputs": [
        {
          "output_type": "stream",
          "text": [
            "[1, 2, 3]\n"
          ],
          "name": "stdout"
        }
      ]
    },
    {
      "cell_type": "markdown",
      "metadata": {
        "id": "uXhyJU0eGKgS"
      },
      "source": [
        "# **Problem 3**\n",
        "\n",
        "Without using the `==` operator to compare lists (you can still compare individual elements of the lists), write a function `lists_are_the_same(list1, list2)` which returns `True` *iff* `list1` and `list2` contain the same elements in the same order. You'll need to use a loop (either while or for)"
      ]
    },
    {
      "cell_type": "code",
      "metadata": {
        "id": "uGY12_n_D8mu",
        "outputId": "eb17c97c-55d1-40ba-d2d9-f1203ea807cf",
        "colab": {
          "base_uri": "https://localhost:8080/",
          "height": 51
        }
      },
      "source": [
        "def lists_are_the_same(list1, list2):\n",
        "  x = len(list1)\n",
        "  y = len(list2)\n",
        "  if x != y:\n",
        "    return False\n",
        "  else:\n",
        "    for i in range(x):\n",
        "      if list1[i] == list2[i]:\n",
        "        continue\n",
        "      else:\n",
        "        return False\n",
        "    return True\n",
        "\n",
        "#Test 1: Same lists\n",
        "A = [1, 2, 3]\n",
        "B = [1, 2, 3]\n",
        "\n",
        "if lists_are_the_same(A, B):\n",
        "  print(\"A and B are the same lists\")\n",
        "else:\n",
        "  print(\"A and B are different lists\")\n",
        "\n",
        "\n",
        "#Test 2: Different lists\n",
        "L = [1, 2, 3, 4]\n",
        "M = [1, 2, 3]\n",
        "\n",
        "if lists_are_the_same(A, B):\n",
        "  print(\"A and B are the same lists\")\n",
        "else:\n",
        "  print(\"A and B are different lists\")"
      ],
      "execution_count": 3,
      "outputs": [
        {
          "output_type": "stream",
          "text": [
            "A and B are the same lists\n",
            "A and B are the same lists\n"
          ],
          "name": "stdout"
        }
      ]
    },
    {
      "cell_type": "markdown",
      "metadata": {
        "id": "Vs7SWakeIr8Q"
      },
      "source": [
        "## **Problem 4: Simplifying Fractions**\n",
        "\n",
        "Write a function with the signature `simplify_fraction(n, m)` which prints the simplified version of the fraction $\\frac{m}{n}$. For example, `simplify_fraction(3,6)` should print $\\frac{1}{2}$ and `simplify_fraction(8, 4)` should print $\\frac{2}{1}$"
      ]
    },
    {
      "cell_type": "markdown",
      "metadata": {
        "id": "9nc51T9JLhfG"
      },
      "source": [
        "### **Method 1: The most efficient way.**"
      ]
    },
    {
      "cell_type": "code",
      "metadata": {
        "id": "eeNx3YK_IMA8",
        "outputId": "5b74c9b2-d4a9-4542-da51-7d8d872a454a",
        "colab": {
          "base_uri": "https://localhost:8080/",
          "height": 34
        }
      },
      "source": [
        "import math\n",
        "\n",
        "def simplify_fraction(n, m):\n",
        "  gcd = math.gcd(n, m)\n",
        "  simplify_n = str(int(n/gcd))\n",
        "  simplify_m = str(int(m/gcd))\n",
        "  simplified = simplify_n + \"/\" + simplify_m\n",
        "  return print(simplified)\n",
        "\n",
        "#Test function\n",
        "simplify_fraction(60, 48)"
      ],
      "execution_count": 4,
      "outputs": [
        {
          "output_type": "stream",
          "text": [
            "5/4\n"
          ],
          "name": "stdout"
        }
      ]
    },
    {
      "cell_type": "markdown",
      "metadata": {
        "id": "CeRwhIacLkeS"
      },
      "source": [
        "### **Method 2: Using loops**"
      ]
    },
    {
      "cell_type": "code",
      "metadata": {
        "id": "hCyjF-McKhWe",
        "outputId": "56cbd48c-158c-4dfe-b3e5-ae89bce782b7",
        "colab": {
          "base_uri": "https://localhost:8080/",
          "height": 34
        }
      },
      "source": [
        "def GCD(x, y): \n",
        "    if x > y: \n",
        "        small = y \n",
        "    else: \n",
        "        small = x \n",
        "    for i in range(1, small+1): \n",
        "        if((x % i == 0) and (y % i == 0)): \n",
        "            gcd = i \n",
        "    return gcd \n",
        "\n",
        "def simplify_fraction(n, m):\n",
        "  gcd = GCD(n, m)\n",
        "  simplify_n = str(int(n/gcd))\n",
        "  simplify_m = str(int(m/gcd))\n",
        "  simplified = simplify_n + \"/\" + simplify_m\n",
        "  return print(simplified)\n",
        "\n",
        "#Test function\n",
        "simplify_fraction(60, 48)"
      ],
      "execution_count": 5,
      "outputs": [
        {
          "output_type": "stream",
          "text": [
            "5/4\n"
          ],
          "name": "stdout"
        }
      ]
    },
    {
      "cell_type": "markdown",
      "metadata": {
        "id": "B6e0AYptMYMN"
      },
      "source": [
        "## **Problem 5: Sum more π**\n",
        "\n",
        "Write a function that returns the number of the terms required to obtain an approximation of π using the Leibniz formula that agrees with the actual value of π to n significant digits (i.e., the first n digits are the same in π and in the approximation.)"
      ]
    },
    {
      "cell_type": "code",
      "metadata": {
        "id": "rgXoGFI2odo5",
        "outputId": "76515829-fdc2-4c8f-f405-eabe88af8d5e",
        "colab": {
          "base_uri": "https://localhost:8080/",
          "height": 85
        }
      },
      "source": [
        "def leibniz_pi(n):\n",
        "  '''\n",
        "  A function that uses the leibniz formula to return a value of pi.\n",
        "  '''\n",
        "  total = 0\n",
        "  for i in range(n+1):\n",
        "    total+= ((-1)**i)/((2*i)+1)\n",
        "  total = total*4     #This is done as the Leibniz formula actually outputs π/4 and we need to return π\n",
        "  return total\n",
        "\n",
        "def sig_pi(n):\n",
        "  '''\n",
        "  A function that returns the number of the terms required to obtain an \n",
        "  approximation of π using the Leibniz formula that agrees with the \n",
        "  actual value of π to n significant digits.\n",
        "  '''\n",
        "  format_argument ='.' + str(n) + 'f'\n",
        "  pi = math.pi\n",
        "  count=0\n",
        "  while int(float(format(leibniz_pi(count), format_argument))*(10**n)) != int(pi*(10**n)):\n",
        "    count+=1\n",
        "  return count\n",
        "\n",
        "#Tests\n",
        "a=1\n",
        "print(\"Summing up till term: \" + str(sig_pi(a)) + \" in the Lebniz formula will give you an accuracy of pi to \" + str(a) + \" sig figs.\")\n",
        "a=2\n",
        "print(\"Summing up till term: \" + str(sig_pi(a)) + \" in the Lebniz formula will give you an accuracy of pi to \" + str(a) + \" sig figs.\")\n",
        "a=3\n",
        "print(\"Summing up till term: \" + str(sig_pi(a)) + \" in the Lebniz formula will give you an accuracy of pi to \" + str(a) + \" sig figs.\")\n",
        "a=4\n",
        "print(\"Summing up till term: \" + str(sig_pi(a)) + \" in the Lebniz formula will give you an accuracy of pi to \" + str(a) + \" sig figs.\")"
      ],
      "execution_count": 6,
      "outputs": [
        {
          "output_type": "stream",
          "text": [
            "Summing up till term: 11 in the Lebniz formula will give you an accuracy of pi to 1 sig figs.\n",
            "Summing up till term: 151 in the Lebniz formula will give you an accuracy of pi to 2 sig figs.\n",
            "Summing up till term: 915 in the Lebniz formula will give you an accuracy of pi to 3 sig figs.\n",
            "Summing up till term: 7009 in the Lebniz formula will give you an accuracy of pi to 4 sig figs.\n"
          ],
          "name": "stdout"
        }
      ]
    },
    {
      "cell_type": "markdown",
      "metadata": {
        "id": "LYhQmN3wMyx7"
      },
      "source": [
        "## **Problem 6: Euclid's Algorithm (challenge)**\n",
        "\n",
        "Create a function that uses Euclid's Algorithm to determine the GCD of two numbers. This is an example of how the Eucledian algorithm works:\n",
        "\n",
        "```\n",
        "GCD(54, 888)\n",
        "Step 1. 888/54 = 54(16) + 24\n",
        "Step 2. 54/24 = 24(2) + 6\n",
        "Step 3. 24/6 = 6(4) + 0\n",
        "Therefore, GCD(54, 888) = 6\n",
        "```"
      ]
    },
    {
      "cell_type": "code",
      "metadata": {
        "id": "-KqvwgxsMzBD",
        "outputId": "bc452084-9374-46c2-b7a1-51ad7066ce26",
        "colab": {
          "base_uri": "https://localhost:8080/",
          "height": 34
        }
      },
      "source": [
        "def euclid_GCD_algorithm(num1, num2): \n",
        "   while(num2): \n",
        "       num1, num2 = num2, num1 % num2 \n",
        "   return num1\n",
        "\n",
        "# Test euclid_GCD_algorithm(78,36)\n",
        "print (\"The gcd of 78 and 36 is : \" + str(euclid_GCD_algorithm(78,36))) "
      ],
      "execution_count": 7,
      "outputs": [
        {
          "output_type": "stream",
          "text": [
            "The gcd of 78 and 36 is : 6\n"
          ],
          "name": "stdout"
        }
      ]
    }
  ]
}