{
  "nbformat": 4,
  "nbformat_minor": 0,
  "metadata": {
    "colab": {
      "name": "Lab 7 Submission.ipynb",
      "provenance": [],
      "collapsed_sections": [],
      "authorship_tag": "ABX9TyNiY5Q8qA03qc+DkYMKhTp1",
      "include_colab_link": true
    },
    "kernelspec": {
      "name": "python3",
      "display_name": "Python 3"
    }
  },
  "cells": [
    {
      "cell_type": "markdown",
      "metadata": {
        "id": "view-in-github",
        "colab_type": "text"
      },
      "source": [
        "<a href=\"https://colab.research.google.com/github/MustafaKhan670093/ESC180-Intro-To-Computer-Programming/blob/master/Lab_7_Submission.ipynb\" target=\"_parent\"><img src=\"https://colab.research.google.com/assets/colab-badge.svg\" alt=\"Open In Colab\"/></a>"
      ]
    },
    {
      "cell_type": "markdown",
      "metadata": {
        "id": "lm5YOmn5P9Tm"
      },
      "source": [
        "# **Mustafa's Submission For Lab 7: Guassian Elimination**\n",
        "\n",
        "More information on lab [here](https://www.cs.toronto.edu/~guerzhoy/180/labs/lab07.pdf)."
      ]
    },
    {
      "cell_type": "markdown",
      "metadata": {
        "id": "iNSFr31TQXN2"
      },
      "source": [
        "# **Problem 1**\n",
        "\n",
        "Download numpy.py and understand how to print lists of lists as matrices by converting lists of lists to arrays (lines 1-11). Write a function `print_matrix(M_lol)` which prints the nested list M_lol as a matrix. You will be able to use your function to debug your implementation of Gaussian Elimination"
      ]
    },
    {
      "cell_type": "code",
      "metadata": {
        "id": "aq0C1xRhP8Uk",
        "colab": {
          "base_uri": "https://localhost:8080/"
        },
        "outputId": "55073693-d17b-40db-e085-a1c06fd96f56"
      },
      "source": [
        "#Needed for array() and dot()\n",
        "import numpy as np\n",
        "from numpy import *\n",
        "\n",
        "\n",
        "#Printing matrices using NumPy:\n",
        "\n",
        "#Convert a list of lists into an array:\n",
        "M_listoflists = [[1,-2,3],[3,10,1],[1,5,3]]\n",
        "M = array(M_listoflists)\n",
        "#Now print it:\n",
        "#print(M)\n",
        "\n",
        "\n",
        "\n",
        "\n",
        "#Compute M*x for matrix M and vector x by using\n",
        "#dot. To do that, we need to obtain arrays\n",
        "#M and x\n",
        "M = array([[1,-2,3],[3,10,1],[1,5,3]])\n",
        "x = array([75,10,-11])\n",
        "b = dot(M,x)        \n",
        "\n",
        "#print(M)\n",
        "#[[ 1 -2  3]\n",
        "# [ 3 10  1]\n",
        "# [ 1  5  3]]\n",
        "\n",
        "#To obtain a list of lists from the array M, we use .tolist()\n",
        "#M_listoflists = M.tolist() \n",
        "\n",
        "#print(M_listoflists) #[[1, -2, 3], [3, 10, 1], [1, 5, 3]]\n",
        "\n",
        "##############################################################\n",
        "\n",
        "def print_matrix(M_lol):\n",
        "  matrix = array(M_lol)\n",
        "  print(matrix)\n",
        "\n",
        "print_matrix(M_listoflists)\n"
      ],
      "execution_count": null,
      "outputs": [
        {
          "output_type": "stream",
          "text": [
            "[[ 1 -2  3]\n",
            " [ 3 10  1]\n",
            " [ 1  5  3]]\n"
          ],
          "name": "stdout"
        }
      ]
    },
    {
      "cell_type": "markdown",
      "metadata": {
        "id": "A5Pwp3f_UL5z"
      },
      "source": [
        "## **Probelm 2**\n",
        "\n",
        "Write a function with the signature `get_lead_ind(row)` which takes in a list of numbers row, and returns the index of the first non-zero element of row. The function should return `len(row)` if the row contains no non-zero elements."
      ]
    },
    {
      "cell_type": "code",
      "metadata": {
        "id": "28dNmtJUUWJy",
        "colab": {
          "base_uri": "https://localhost:8080/"
        },
        "outputId": "e3d3a229-c121-460b-9f06-aa47fcebbf18"
      },
      "source": [
        "def get_lead_ind(row):\n",
        "  #Check for first non-zero elements in row and return their index:\n",
        "  for i in range(len(row)):\n",
        "    if row[i] != 0:\n",
        "      return i\n",
        "  #After not finding any non-zero elements:\n",
        "  return len(row)\n",
        "\n",
        "\n",
        "#Test 1 - Index at 1\n",
        "A = [0, 1, 2, 3]\n",
        "print(\"Test 1, List A: \" + str(A))\n",
        "print(\"Non Zero Number @ Index: \" + str(get_lead_ind(A)))\n",
        "print(' ')\n",
        "#Test 2 - Index at 0\n",
        "B = [1, 0, 2, 3]\n",
        "print(\"Test 2, List B: \" + str(B))\n",
        "print(\"Non Zero Number @ Index: \" + str(get_lead_ind(B)))\n",
        "print(' ')\n",
        "#Test 3 - Return Length Of Row\n",
        "C = [0, 0, 0, 0, 0]\n",
        "print(\"Test 3, List B: \" + str(C))\n",
        "print(\"Length Of Row: \" + str(get_lead_ind(C)))\n",
        "print(' ')"
      ],
      "execution_count": null,
      "outputs": [
        {
          "output_type": "stream",
          "text": [
            "Test 1, List A: [0, 1, 2, 3]\n",
            "Non Zero Number @ Index: 1\n",
            " \n",
            "Test 2, List B: [1, 0, 2, 3]\n",
            "Non Zero Number @ Index: 0\n",
            " \n",
            "Test 3, List B: [0, 0, 0, 0, 0]\n",
            "Length Of Row: 5\n",
            " \n"
          ],
          "name": "stdout"
        }
      ]
    },
    {
      "cell_type": "markdown",
      "metadata": {
        "id": "HTC9ozIepyv6"
      },
      "source": [
        "# **Problem 3**\n",
        "\n",
        "Write a function with the signature `get_row_to_swap(M, start_i)` which takes in a matrix M (represented as a list of lists) and an integer `start_i`, and returns the row that needs to be swapped (permuted/interchanged) with the row `M[start_i]`. The row that needs to be swapped with the row `M[start_i]` is the row at index larger or equal to `start_i` which has the leading non-zero coefficient that is as far to the left as possible.\n",
        "For example, for\n",
        "```\n",
        "M = [[5, 6, 7, 8],\n",
        "[0, 0, 0, 1],\n",
        "[0, 0, 5, 2],\n",
        "[0, 1, 0, 0]]\n",
        "\n",
        "start_i = 1\n",
        "```\n",
        "`[0,0, 0, 1]` needs to be swapped with `[0, 1, 0, 0]`, so that the function should return 3."
      ]
    },
    {
      "cell_type": "code",
      "metadata": {
        "id": "PJ7ty24sUafZ",
        "colab": {
          "base_uri": "https://localhost:8080/"
        },
        "outputId": "6e839cdd-a310-4a95-bf33-20806d5c1fa5"
      },
      "source": [
        "def get_row_to_swap(M, start_i):\n",
        "  base_lead_index = get_lead_ind(M[start_i])\n",
        "  lead_indexes = []\n",
        "  #sorted_indexes = []\n",
        "  count = 0\n",
        "\n",
        "  for i in range(len(M)):\n",
        "    lead_indexes.append(get_lead_ind(M[i]))\n",
        "\n",
        "  max_i = start_i\n",
        "  max_lead_index = lead_indexes[start_i]\n",
        "  \n",
        "  for i in range(len(lead_indexes)):              \n",
        "    if i >= start_i:                             \n",
        "      if lead_indexes[i] <= base_lead_index:         \n",
        "        if lead_indexes[i] < max_lead_index:\n",
        "          max_i = i\n",
        "          max_lead_index = lead_indexes[i]\n",
        "        elif lead_indexes[i] == max_lead_index: \n",
        "          count += 1\n",
        "          if count <= 1:\n",
        "            max_i = i\n",
        "            max_lead_index = lead_indexes[i]    #Use min function to achieve same result\n",
        "\n",
        "  return max_i\n",
        "\n",
        "#Test 1\n",
        "A = [[5, 6, 7, 8], \n",
        "     [0, 0, 0, 1], \n",
        "     [0, 0, 5, 2], \n",
        "     [0, 1, 0, 0]]\n",
        " \n",
        "print(get_row_to_swap(A, 1))\n",
        "\n",
        "#Test 2 - \n",
        "B = [[0, 0, 0, 1], \n",
        "     [5, 6, 7, 8], \n",
        "     [0, 0, 5, 2], \n",
        "     [0, 1, 0, 0]]\n",
        "\n",
        "print(get_row_to_swap(B, 0))\n",
        "\n",
        "#Test 3 - When row full of zeros\n",
        "C = [[0, 0, 0, 1], \n",
        "     [5, 6, 7, 8], \n",
        "     [0, 0, 5, 2], \n",
        "     [0, 0, 0, 0]]\n",
        "\n",
        "print(get_row_to_swap(C, 2))\n",
        "\n",
        "#Test 4\n",
        "D = [[5, 6, 7, 8],\n",
        "     [0, 1, 0, 0],\n",
        "     [0, 0, 0, 1],  \n",
        "     [0, 0, 5, 2]]\n",
        "\n",
        "print(get_row_to_swap(D, 2))\n",
        "\n",
        "#Test 5\n",
        "E = [[0, 0, 0, 1],\n",
        "     [5, 6, 7, 8], \n",
        "     [0, 1, 0, 0],\n",
        "     [0, 0, 5, 2]]\n",
        " \n",
        "print(get_row_to_swap(E, 1))\n",
        "\n",
        "#Test 6\n",
        "F = [[ 0, 0, 1, 0, 2], \n",
        "     [ 1, 0, 2, 3, 4,], \n",
        "     [ 3, 0, 4, 2, 1,], \n",
        "     [ 1, 0, 1, 1, 2,]]\n",
        "print(get_row_to_swap(F, 0))"
      ],
      "execution_count": null,
      "outputs": [
        {
          "output_type": "stream",
          "text": [
            "3\n",
            "1\n",
            "2\n",
            "3\n",
            "1\n",
            "1\n"
          ],
          "name": "stdout"
        }
      ]
    },
    {
      "cell_type": "markdown",
      "metadata": {
        "id": "YK6db5JFFeV3"
      },
      "source": [
        "## **Problem 4**\n",
        "Write a function with the signature `add_rows_coefs(r1, c1, r2, c2)` which takes in rows (represented as lists of equal lengths) `r1` and `r2` and coefficients (floats) `c1` and `c2`, and returns a new list that contains the row `c1*r1 + c2r2`. (Note: to create a new list of 10 zeros, you can use `[0]*10`.)"
      ]
    },
    {
      "cell_type": "code",
      "metadata": {
        "id": "2oZjAYVBCypi"
      },
      "source": [
        "def add_rows_coefs(r1, c1, r2, c2):\n",
        "  result = []\n",
        "  for i in range(len(r1)):\n",
        "    elem = c1*r1[i] + c2*r2[i]\n",
        "    result.append(elem)                 #Note: np.array(r1)*c1 . In the end, return result.tolist() if using numpy.\n",
        "  return result"
      ],
      "execution_count": null,
      "outputs": []
    },
    {
      "cell_type": "markdown",
      "metadata": {
        "id": "eBW2lH9yUAsK"
      },
      "source": [
        "## **Problem 5**\n",
        "\n",
        "Write a function with the signature `eliminate(M, row_to_sub, best_lead_ind)` which takes in a matrix M (represented as a list of lists), `row_to_sub`, an index of the row to subtract from other rows to eliminate, and `best_lead_ind`, the index of the coefficient to be eliminated in rows below index `best_lead_ind`. Assume that M`[row_to_sub]` is all zeros before M[row_to_sub][best_lead_ind]"
      ]
    },
    {
      "cell_type": "code",
      "metadata": {
        "id": "hrO6pGoSURdJ",
        "colab": {
          "base_uri": "https://localhost:8080/"
        },
        "outputId": "98d4c8ce-d9c2-4a42-d795-126eabea3246"
      },
      "source": [
        "def eliminate(M, row_to_sub, best_lead_ind):\n",
        "  copy_row_to_sub = M[row_to_sub]\n",
        "  temp_row = []\n",
        "  for i in range((row_to_sub + 1), len(M)):\n",
        "    coef = M[row_to_sub][get_lead_ind(M[row_to_sub])]\n",
        "    # if coef != 1:\n",
        "    temp_row = [j * (1/coef) for j in M[row_to_sub]]\n",
        "    copy_row_to_sub = [j * M[i][best_lead_ind] for j in temp_row]\n",
        "    M[i] = [x1 - x2 for (x1, x2) in zip(M[i], copy_row_to_sub)]\n",
        "    copy_row_to_sub = M[row_to_sub]\n",
        "    # else:\n",
        "    #   copy_row_to_sub = [j * M[i][best_lead_ind] for j in M[row_to_sub]]\n",
        "    #   M[i] = [x1 - x2 for (x1, x2) in zip(M[i], copy_row_to_sub)]\n",
        "    #   copy_row_to_sub = M[row_to_sub]\n",
        "\n",
        "A = [[ 1,  0,  2,  3,  4],\n",
        "     [ 0,  0,  1,  0,  2],\n",
        "     [ 0,  0,  0, -7, -7],\n",
        "     [ 0,  0,  0, -2,  0]]\n",
        "\n",
        "print(get_lead_ind(M[2])) #3\n",
        "eliminate(A, 1, get_lead_ind(M[1]))\n",
        "print(np.array(A))\n",
        "\n",
        "\n",
        "# #Test  \n",
        "# M = [[5, 6, 7, 8],\n",
        "#      [0,0, 1, 1],\n",
        "#      [0, 0, 5, 2],\n",
        "#      [0, 0, 7, 0]]\n",
        "\n",
        "# row_to_sub = 1\n",
        "# best_lead_ind = 2\n",
        "\n",
        "# eliminate(M, row_to_sub, best_lead_ind)\n",
        "# print(np.array(M))"
      ],
      "execution_count": null,
      "outputs": [
        {
          "output_type": "stream",
          "text": [
            "3\n",
            "[[ 1.  0.  2.  3.  4.]\n",
            " [ 0.  0.  1.  0.  2.]\n",
            " [ 0.  0.  0. -7. -7.]\n",
            " [ 0.  0.  0. -2.  0.]]\n"
          ],
          "name": "stdout"
        }
      ]
    },
    {
      "cell_type": "markdown",
      "metadata": {
        "id": "PNFKzNKNFHtv"
      },
      "source": [
        "## **Problem 6**\n",
        "\n",
        "Write a function with the signature `forward_step(M)` which takes in an arbitrary matrix `M` (as a list of lists), applies the forward step of Gaussian Elimination to it, and modifies `M` to be the matrix obtained after the forward step is applied. This can be done by repeatedly calling `get_row_to_swap`, swapping rows, and calling `eliminate`. Unlike with ESC103, I recommend that you keep the entire matrix rather than extracting submatrices. The process of performing the forward step remains essentially the same. As you write `forward_step()`, add `print()` statements to `forward_step()` to produce output similar to the examples provided on this handout (i.e, print out the matrix transformation process, and comments on what’s happening at every step)."
      ]
    },
    {
      "cell_type": "code",
      "metadata": {
        "id": "Fa-UVbjkFaRE",
        "colab": {
          "base_uri": "https://localhost:8080/"
        },
        "outputId": "fbfc645f-6c97-4514-8e2d-6085c53551d8"
      },
      "source": [
        "def forward_step(M):\n",
        "  print(\"The matrix is currently:\")\n",
        "  print(np.array(M))\n",
        "  status = True\n",
        "  temp = M\n",
        "  count = 0\n",
        "  #while status == True:\n",
        "  for i in range(len(M)):\n",
        "    print(\"Swapping rows \" + str(i) + \" and \" + str(get_row_to_swap(M, i)) + \" so that entry \" + str(i) + \" in the current row is non-zero.\")\n",
        "    M[get_row_to_swap(M, i)], M[i] = M[i], M[get_row_to_swap(M, i)]\n",
        "    print(\"The matrix is currently:\")\n",
        "    print(np.array(M))\n",
        "    print(\"Adding row \" + str(i) + \" to rows below it to eliminate coefficients in column \" + str(get_row_to_swap(M, i)))\n",
        "    print(\"The matrix is currently:\")\n",
        "    eliminate(M, i, get_lead_ind(M[i]))\n",
        "    print(np.array(M))\n",
        "    # count += 1\n",
        "    # if temp == M:\n",
        "    #   status = False\n",
        "    # else:\n",
        "    #   temp = M\n",
        "  print(\"===========================\")\n",
        "  print(\"Done with the forward step.\")\n",
        "  print(\"The matrix is currently:\")\n",
        "  print(np.array(M))\n",
        "\n",
        "#The matrix is currently:\n",
        "M = [[ 0, 0, 1, 0, 2], \n",
        "     [ 1, 0, 2, 3, 4,], \n",
        "     [ 3, 0, 4, 2, 1,], \n",
        "     [ 1, 0, 1, 1, 2,]]\n",
        "\n",
        "forward_step(M)"
      ],
      "execution_count": null,
      "outputs": [
        {
          "output_type": "stream",
          "text": [
            "The matrix is currently:\n",
            "[[0 0 1 0 2]\n",
            " [1 0 2 3 4]\n",
            " [3 0 4 2 1]\n",
            " [1 0 1 1 2]]\n",
            "Swapping rows 0 and 1 so that entry 0 in the current row is non-zero.\n",
            "The matrix is currently:\n",
            "[[1 0 2 3 4]\n",
            " [0 0 1 0 2]\n",
            " [3 0 4 2 1]\n",
            " [1 0 1 1 2]]\n",
            "Adding row 0 to rows below it to eliminate coefficients in column 0\n",
            "The matrix is currently:\n",
            "[[  1.   0.   2.   3.   4.]\n",
            " [  0.   0.   1.   0.   2.]\n",
            " [  0.   0.  -2.  -7. -11.]\n",
            " [  0.   0.  -1.  -2.  -2.]]\n",
            "Swapping rows 1 and 1 so that entry 1 in the current row is non-zero.\n",
            "The matrix is currently:\n",
            "[[  1.   0.   2.   3.   4.]\n",
            " [  0.   0.   1.   0.   2.]\n",
            " [  0.   0.  -2.  -7. -11.]\n",
            " [  0.   0.  -1.  -2.  -2.]]\n",
            "Adding row 1 to rows below it to eliminate coefficients in column 1\n",
            "The matrix is currently:\n",
            "[[ 1.  0.  2.  3.  4.]\n",
            " [ 0.  0.  1.  0.  2.]\n",
            " [ 0.  0.  0. -7. -7.]\n",
            " [ 0.  0.  0. -2.  0.]]\n",
            "Swapping rows 2 and 2 so that entry 2 in the current row is non-zero.\n",
            "The matrix is currently:\n",
            "[[ 1.  0.  2.  3.  4.]\n",
            " [ 0.  0.  1.  0.  2.]\n",
            " [ 0.  0.  0. -7. -7.]\n",
            " [ 0.  0.  0. -2.  0.]]\n",
            "Adding row 2 to rows below it to eliminate coefficients in column 2\n",
            "The matrix is currently:\n",
            "[[ 1.  0.  2.  3.  4.]\n",
            " [ 0.  0.  1.  0.  2.]\n",
            " [ 0.  0.  0. -7. -7.]\n",
            " [ 0.  0.  0.  0.  2.]]\n",
            "Swapping rows 3 and 3 so that entry 3 in the current row is non-zero.\n",
            "The matrix is currently:\n",
            "[[ 1.  0.  2.  3.  4.]\n",
            " [ 0.  0.  1.  0.  2.]\n",
            " [ 0.  0.  0. -7. -7.]\n",
            " [ 0.  0.  0.  0.  2.]]\n",
            "Adding row 3 to rows below it to eliminate coefficients in column 3\n",
            "The matrix is currently:\n",
            "[[ 1.  0.  2.  3.  4.]\n",
            " [ 0.  0.  1.  0.  2.]\n",
            " [ 0.  0.  0. -7. -7.]\n",
            " [ 0.  0.  0.  0.  2.]]\n",
            "===========================\n",
            "Done with the forward step.\n",
            "The matrix is currently:\n",
            "[[ 1.  0.  2.  3.  4.]\n",
            " [ 0.  0.  1.  0.  2.]\n",
            " [ 0.  0.  0. -7. -7.]\n",
            " [ 0.  0.  0.  0.  2.]]\n"
          ],
          "name": "stdout"
        }
      ]
    },
    {
      "cell_type": "markdown",
      "metadata": {
        "id": "j1VNjcJNS86p"
      },
      "source": [
        "## **Problem 7**\n",
        "\n",
        "Write a function with the signature `backward_step(M)` which takes in an arbitrary matrix M and applies the backward step of Gaussian Elimination to it. "
      ]
    },
    {
      "cell_type": "code",
      "metadata": {
        "id": "D9tiA8hCiGm2",
        "colab": {
          "base_uri": "https://localhost:8080/"
        },
        "outputId": "bf5bc935-895b-4fc4-a5bb-bd8d26fc8c9c"
      },
      "source": [
        "def backwards_eliminate(M, row_to_sub, best_lead_ind):\n",
        "  copy_row_to_sub = M[row_to_sub]\n",
        "  temp_row = []\n",
        "  a_range = range(len(M))\n",
        "  reversed_range = list(reversed(a_range))\n",
        "  for i in a_range:\n",
        "    if i < row_to_sub:\n",
        "      coef = M[row_to_sub][get_lead_ind(M[row_to_sub])]\n",
        "      if coef != 1:\n",
        "        temp_row = [j * (1/coef) for j in M[row_to_sub]]\n",
        "        copy_row_to_sub = [j * M[i][best_lead_ind] for j in temp_row]\n",
        "        M[i] = [x1 - x2 for (x1, x2) in zip(M[i], copy_row_to_sub)]\n",
        "        copy_row_to_sub = M[row_to_sub]\n",
        "      else:\n",
        "        copy_row_to_sub = [j * M[i][best_lead_ind] for j in M[row_to_sub]]\n",
        "        M[i] = [x1 - x2 for (x1, x2) in zip(M[i], copy_row_to_sub)]\n",
        "        copy_row_to_sub = M[row_to_sub]\n",
        "    \n",
        "\n",
        "def backward_step(M):\n",
        "  print(\"The matrix is currently:\")\n",
        "  print(np.array(M))\n",
        "  a_range = range(len(M))\n",
        "  reversed_range = reversed(a_range)\n",
        "  print(\"Now performing the backwards step.\")\n",
        "  for i in reversed_range:\n",
        "    print(\"Adding row \" + str(i) + \" to rows above it to eliminate coefficients in column \" + str(get_row_to_swap(M, i)))\n",
        "    print(\"The matrix is currently:\")\n",
        "    backwards_eliminate(M, i, get_lead_ind(M[i]))\n",
        "    print(np.array(M))\n",
        "  print(\"Now dividing each row by the leading coefficient.\")\n",
        "  for i in range(len(M)):\n",
        "    M[i] = [j * (1/M[i][get_lead_ind(M[i])]) for j in M[i]]\n",
        "  print(\"The matrix is currently:\")\n",
        "  print(np.array(M))\n",
        "  \n",
        "M = [[ 1., -2., 3., 22. ],\n",
        "     [ 0., 16., -8., 248. ],\n",
        "     [ 0., 0., 3.5, -38.5]]\n",
        "\n",
        "backward_step(M)\n"
      ],
      "execution_count": null,
      "outputs": [
        {
          "output_type": "stream",
          "text": [
            "The matrix is currently:\n",
            "[[  1.   -2.    3.   22. ]\n",
            " [  0.   16.   -8.  248. ]\n",
            " [  0.    0.    3.5 -38.5]]\n",
            "Now performing the backwards step.\n",
            "Adding row 2 to rows above it to eliminate coefficients in column 2\n",
            "The matrix is currently:\n",
            "[[  1.   -2.    0.   55. ]\n",
            " [  0.   16.    0.  160. ]\n",
            " [  0.    0.    3.5 -38.5]]\n",
            "Adding row 1 to rows above it to eliminate coefficients in column 1\n",
            "The matrix is currently:\n",
            "[[  1.    0.    0.   75. ]\n",
            " [  0.   16.    0.  160. ]\n",
            " [  0.    0.    3.5 -38.5]]\n",
            "Adding row 0 to rows above it to eliminate coefficients in column 0\n",
            "The matrix is currently:\n",
            "[[  1.    0.    0.   75. ]\n",
            " [  0.   16.    0.  160. ]\n",
            " [  0.    0.    3.5 -38.5]]\n",
            "Now dividing each row by the leading coefficient.\n",
            "The matrix is currently:\n",
            "[[  1.   0.   0.  75.]\n",
            " [  0.   1.   0.  10.]\n",
            " [  0.   0.   1. -11.]]\n"
          ],
          "name": "stdout"
        }
      ]
    },
    {
      "cell_type": "markdown",
      "metadata": {
        "id": "MulBaeTmoDUT"
      },
      "source": [
        "## **Problem 8.**\n",
        "Now, write a function that solves the equation `Mx = b` for the vector `x`. The idea is to first build the augmented matrix (M|b), then apply Gaussian Elimination to the augmented matrix, and then solve for x. Test your solve() function. In numpy.py, we provide code to quickly perform matrix multiplication in Python so that you can pick arbitrary M and x, obtain a b by multiplying M and x, and then verify that your algorithm can recover the x."
      ]
    },
    {
      "cell_type": "code",
      "metadata": {
        "id": "KVdGnODzoK8E",
        "colab": {
          "base_uri": "https://localhost:8080/"
        },
        "outputId": "ad00d51e-6645-44cc-d17a-6da45ef52fc3"
      },
      "source": [
        "def gaussian_elimination(M, b):\n",
        "  A = M  #Augmented matrix\n",
        "  new_b = []\n",
        "  for i in range(len(b)):\n",
        "    A[i].append(b[i])\n",
        "  forward_step(A)\n",
        "  backward_step(A)\n",
        "  print(' ')\n",
        "  X = [row[-1] for row in A]\n",
        "  print(\"Solution (X vector) = \" + str(X))\n",
        "\n",
        "#Test\n",
        "M = [[ 0, 0, 1, 0], \n",
        "     [ 1, 0, 2, 3], \n",
        "     [ 3, 0, 4, 2], \n",
        "     [ 1, 0, 1, 1]]\n",
        "\n",
        "b = [2, 4, 1, 2]\n",
        "\n",
        "gaussian_elimination(M, b)"
      ],
      "execution_count": null,
      "outputs": [
        {
          "output_type": "stream",
          "text": [
            "The matrix is currently:\n",
            "[[0 0 1 0 2]\n",
            " [1 0 2 3 4]\n",
            " [3 0 4 2 1]\n",
            " [1 0 1 1 2]]\n",
            "Swapping rows 0 and 1 so that entry 0 in the current row is non-zero.\n",
            "The matrix is currently:\n",
            "[[1 0 2 3 4]\n",
            " [0 0 1 0 2]\n",
            " [3 0 4 2 1]\n",
            " [1 0 1 1 2]]\n",
            "Adding row 0 to rows below it to eliminate coefficients in column 0\n",
            "The matrix is currently:\n",
            "[[  1   0   2   3   4]\n",
            " [  0   0   1   0   2]\n",
            " [  0   0  -2  -7 -11]\n",
            " [  0   0  -1  -2  -2]]\n",
            "Swapping rows 1 and 1 so that entry 1 in the current row is non-zero.\n",
            "The matrix is currently:\n",
            "[[  1   0   2   3   4]\n",
            " [  0   0   1   0   2]\n",
            " [  0   0  -2  -7 -11]\n",
            " [  0   0  -1  -2  -2]]\n",
            "Adding row 1 to rows below it to eliminate coefficients in column 1\n",
            "The matrix is currently:\n",
            "[[ 1  0  2  3  4]\n",
            " [ 0  0  1  0  2]\n",
            " [ 0  0  0 -7 -7]\n",
            " [ 0  0  0 -2  0]]\n",
            "Swapping rows 2 and 2 so that entry 2 in the current row is non-zero.\n",
            "The matrix is currently:\n",
            "[[ 1  0  2  3  4]\n",
            " [ 0  0  1  0  2]\n",
            " [ 0  0  0 -7 -7]\n",
            " [ 0  0  0 -2  0]]\n",
            "Adding row 2 to rows below it to eliminate coefficients in column 2\n",
            "The matrix is currently:\n",
            "[[ 1.  0.  2.  3.  4.]\n",
            " [ 0.  0.  1.  0.  2.]\n",
            " [ 0.  0.  0. -7. -7.]\n",
            " [ 0.  0.  0.  0.  2.]]\n",
            "Swapping rows 3 and 3 so that entry 3 in the current row is non-zero.\n",
            "The matrix is currently:\n",
            "[[ 1.  0.  2.  3.  4.]\n",
            " [ 0.  0.  1.  0.  2.]\n",
            " [ 0.  0.  0. -7. -7.]\n",
            " [ 0.  0.  0.  0.  2.]]\n",
            "Adding row 3 to rows below it to eliminate coefficients in column 3\n",
            "The matrix is currently:\n",
            "[[ 1.  0.  2.  3.  4.]\n",
            " [ 0.  0.  1.  0.  2.]\n",
            " [ 0.  0.  0. -7. -7.]\n",
            " [ 0.  0.  0.  0.  2.]]\n",
            "===========================\n",
            "Done with the forward step.\n",
            "The matrix is currently:\n",
            "[[ 1.  0.  2.  3.  4.]\n",
            " [ 0.  0.  1.  0.  2.]\n",
            " [ 0.  0.  0. -7. -7.]\n",
            " [ 0.  0.  0.  0.  2.]]\n",
            "The matrix is currently:\n",
            "[[ 1.  0.  2.  3.  4.]\n",
            " [ 0.  0.  1.  0.  2.]\n",
            " [ 0.  0.  0. -7. -7.]\n",
            " [ 0.  0.  0.  0.  2.]]\n",
            "Now performing the backwards step.\n",
            "Adding row 3 to rows above it to eliminate coefficients in column 3\n",
            "The matrix is currently:\n",
            "[[ 1.  0.  2.  3.  0.]\n",
            " [ 0.  0.  1.  0.  0.]\n",
            " [ 0.  0.  0. -7.  0.]\n",
            " [ 0.  0.  0.  0.  2.]]\n",
            "Adding row 2 to rows above it to eliminate coefficients in column 2\n",
            "The matrix is currently:\n",
            "[[ 1.  0.  2.  0.  0.]\n",
            " [ 0.  0.  1.  0.  0.]\n",
            " [ 0.  0.  0. -7.  0.]\n",
            " [ 0.  0.  0.  0.  2.]]\n",
            "Adding row 1 to rows above it to eliminate coefficients in column 1\n",
            "The matrix is currently:\n",
            "[[ 1.  0.  0.  0.  0.]\n",
            " [ 0.  0.  1.  0.  0.]\n",
            " [ 0.  0.  0. -7.  0.]\n",
            " [ 0.  0.  0.  0.  2.]]\n",
            "Adding row 0 to rows above it to eliminate coefficients in column 0\n",
            "The matrix is currently:\n",
            "[[ 1.  0.  0.  0.  0.]\n",
            " [ 0.  0.  1.  0.  0.]\n",
            " [ 0.  0.  0. -7.  0.]\n",
            " [ 0.  0.  0.  0.  2.]]\n",
            "Now dividing each row by the leading coefficient.\n",
            "The matrix is currently:\n",
            "[[ 1.  0.  0.  0.  0.]\n",
            " [ 0.  0.  1.  0.  0.]\n",
            " [-0. -0. -0.  1. -0.]\n",
            " [ 0.  0.  0.  0.  1.]]\n",
            " \n",
            "Solution (X vector) = [0.0, 0.0, -0.0, 1.0]\n"
          ],
          "name": "stdout"
        }
      ]
    }
  ]
}