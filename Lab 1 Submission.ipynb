{
  "nbformat": 4,
  "nbformat_minor": 0,
  "metadata": {
    "colab": {
      "name": "ESC180 - Lab 1.ipynb",
      "provenance": [],
      "authorship_tag": "ABX9TyP5OZriiSquI3+mAciNzyQZ",
      "include_colab_link": true
    },
    "kernelspec": {
      "name": "python3",
      "display_name": "Python 3"
    }
  },
  "cells": [
    {
      "cell_type": "markdown",
      "metadata": {
        "id": "view-in-github",
        "colab_type": "text"
      },
      "source": [
        "<a href=\"https://colab.research.google.com/github/MustafaKhan670093/ESC180-Intro-To-Computer-Programming/blob/master/Lab%201%20Submission.ipynb\" target=\"_parent\"><img src=\"https://colab.research.google.com/assets/colab-badge.svg\" alt=\"Open In Colab\"/></a>"
      ]
    },
    {
      "cell_type": "markdown",
      "metadata": {
        "id": "z0CC-xNlNGDF",
        "colab_type": "text"
      },
      "source": [
        "# **Mustafa's Submission For ESC180 Lab 1**\n",
        "\n",
        "More details about the lab and the lab instructions can be found [here](https://nbviewer.jupyter.org/github/guerzh/esc180lab/blob/master/Lab1.ipynb)."
      ]
    },
    {
      "cell_type": "markdown",
      "metadata": {
        "id": "SBnXJd73NjlU",
        "colab_type": "text"
      },
      "source": [
        "## **Problem 1: Your First Python Program**\n",
        "\n",
        " Type in the following program: print(\"Hello, Python\")"
      ]
    },
    {
      "cell_type": "code",
      "metadata": {
        "id": "jGwQrBscM7su",
        "colab_type": "code",
        "colab": {
          "base_uri": "https://localhost:8080/",
          "height": 34
        },
        "outputId": "2b089686-0f90-4856-f288-a446c3b25948"
      },
      "source": [
        "print(\"Hello, Python\")"
      ],
      "execution_count": 1,
      "outputs": [
        {
          "output_type": "stream",
          "text": [
            "Hello, Python\n"
          ],
          "name": "stdout"
        }
      ]
    },
    {
      "cell_type": "markdown",
      "metadata": {
        "id": "ByYuL50ZNziq",
        "colab_type": "text"
      },
      "source": [
        "## **Problem 2: Greetings**\n",
        "\n",
        "Modify program to greet you by your names, Hermione Granger and Harry Potter."
      ]
    },
    {
      "cell_type": "code",
      "metadata": {
        "id": "Tyzzut1OODyl",
        "colab_type": "code",
        "colab": {
          "base_uri": "https://localhost:8080/",
          "height": 51
        },
        "outputId": "031764f3-72ab-4f61-c336-3cb2da449b28"
      },
      "source": [
        "print(\"Hello, Hermione Granger\")\n",
        "print(\"Hello, Harry Potter\")"
      ],
      "execution_count": 2,
      "outputs": [
        {
          "output_type": "stream",
          "text": [
            "Hello, Hermione Granger\n",
            "Hello, Harry Potter\n"
          ],
          "name": "stdout"
        }
      ]
    },
    {
      "cell_type": "markdown",
      "metadata": {
        "id": "xdabCSynOV_4",
        "colab_type": "text"
      },
      "source": [
        "## **Problem 3: Variables**\n",
        "\n",
        "Use variables to print (again, assuming you are Hermione and Harry) the following without entering either of your names more than once into the program: \n",
        "\n",
        "      Hello, Hermione Granger and Harry Potter. Your names are Harry Potter and Hermione Granger. Hi there. Your names are still Hermione Granger and Harry Potter."
      ]
    },
    {
      "cell_type": "markdown",
      "metadata": {
        "id": "WwFDtW-fSRXp",
        "colab_type": "text"
      },
      "source": [
        "### **Method 1**"
      ]
    },
    {
      "cell_type": "code",
      "metadata": {
        "id": "yUtokFG8O4Yw",
        "colab_type": "code",
        "colab": {
          "base_uri": "https://localhost:8080/",
          "height": 54
        },
        "outputId": "1952d6d6-75a4-4b69-cac8-671c7f1ad0f1"
      },
      "source": [
        "name1 = \"Hermione Granger\"\n",
        "name2 = \"Harry Potter\"\n",
        "print(\"Hello, \" + name1 + \" and \" + name2 + \". Your names are \" + name2 + \" and \" + name1 + \". Hi there. Your names are still \" + name1 + \" and \" + name2 + \".\")"
      ],
      "execution_count": 3,
      "outputs": [
        {
          "output_type": "stream",
          "text": [
            "Hello, Hermione Granger and Harry Potter. Your names are Harry Potter and Hermione Granger. Hi there. Your names are still Hermione Granger and Harry Potter.\n"
          ],
          "name": "stdout"
        }
      ]
    },
    {
      "cell_type": "markdown",
      "metadata": {
        "id": "g5VhkKWsSUCs",
        "colab_type": "text"
      },
      "source": [
        "### **Method 2**"
      ]
    },
    {
      "cell_type": "code",
      "metadata": {
        "id": "SzNJ79-aQrAs",
        "colab_type": "code",
        "colab": {
          "base_uri": "https://localhost:8080/",
          "height": 54
        },
        "outputId": "a3274d45-fcdf-4776-f818-accde1be90cf"
      },
      "source": [
        "txt = \"Hello, {name1} and {name2}. Your names are {name2} and {name1}. Hi there. Your names are still {name1} and {name2}.\"\n",
        "print(txt.format(name1 = \"Hermione Granger\", name2 = \"Harry Potter\"))"
      ],
      "execution_count": 4,
      "outputs": [
        {
          "output_type": "stream",
          "text": [
            "Hello, Hermione Granger and Harry Potter. Your names are Harry Potter and Hermione Granger. Hi there. Your names are still Hermione Granger and Harry Potter.\n"
          ],
          "name": "stdout"
        }
      ]
    },
    {
      "cell_type": "markdown",
      "metadata": {
        "id": "xAHQYjjCSkYz",
        "colab_type": "text"
      },
      "source": [
        "## **Problem 4: Tracing**\n",
        "\n",
        "Modify your program so that, after printing the greetings, the values of the variables that contain your names are changed to `Prof. Cluett` and `Prof. Thywissen`. A screenrecording of me tracing the code and using the debugging tools in order to observe the change in the values of the variables can be found [here](https://youtu.be/W_YkcQF-PR4)."
      ]
    },
    {
      "cell_type": "code",
      "metadata": {
        "id": "8zNs8GeDTTO4",
        "colab_type": "code",
        "colab": {
          "base_uri": "https://localhost:8080/",
          "height": 54
        },
        "outputId": "6d921792-a893-4763-904a-a60604dcf7d9"
      },
      "source": [
        "name1 = \"Hermione Granger\"\n",
        "name2 = \"Harry Potter\"\n",
        "print(\"Hello, \" + name1 + \" and \" + name2 + \". Your names are \" + name2 + \" and \" + name1 + \". Hi there. Your names are still \" + name1 + \" and \" + name2 + \".\")\n",
        "name1 = \"Prof. Cluett\"\n",
        "name2 = \"Prof. Thywissen\""
      ],
      "execution_count": 5,
      "outputs": [
        {
          "output_type": "stream",
          "text": [
            "Hello, Hermione Granger and Harry Potter. Your names are Harry Potter and Hermione Granger. Hi there. Your names are still Hermione Granger and Harry Potter.\n"
          ],
          "name": "stdout"
        }
      ]
    },
    {
      "cell_type": "markdown",
      "metadata": {
        "id": "SY6MDxcpb0fE",
        "colab_type": "text"
      },
      "source": [
        "## **Problem 5: More Greetings**\n",
        "\n",
        "Not everybody should be greeted by name. Write Python code that greets by name the person whose name is stored in a variable named `greetee`, except if the person's name is `Lord Voldemort`, in which case the program should print the message `\"I'm not talking to you.\"`"
      ]
    },
    {
      "cell_type": "markdown",
      "metadata": {
        "id": "Z2m_oNsKcJ1L",
        "colab_type": "text"
      },
      "source": [
        "### **Case 1**"
      ]
    },
    {
      "cell_type": "code",
      "metadata": {
        "id": "ymR9bGi7b2o5",
        "colab_type": "code",
        "colab": {
          "base_uri": "https://localhost:8080/",
          "height": 34
        },
        "outputId": "f17b64ca-eaf9-43f3-e7e6-164a98e4bee7"
      },
      "source": [
        "greetee = \"Harry Potter\"\n",
        "if greetee != \"Lord Voldemort\":\n",
        "  print(\"Hello, \" + greetee)\n",
        "else:\n",
        "  print(\"I'm not talking to you.\")"
      ],
      "execution_count": 6,
      "outputs": [
        {
          "output_type": "stream",
          "text": [
            "Hello, Harry Potter\n"
          ],
          "name": "stdout"
        }
      ]
    },
    {
      "cell_type": "markdown",
      "metadata": {
        "id": "nNI0J23FcZN0",
        "colab_type": "text"
      },
      "source": [
        "### **Case 2**"
      ]
    },
    {
      "cell_type": "code",
      "metadata": {
        "id": "sSDAf549cbhL",
        "colab_type": "code",
        "colab": {
          "base_uri": "https://localhost:8080/",
          "height": 34
        },
        "outputId": "770a7316-a8b8-4885-efdc-a9f61b66fe59"
      },
      "source": [
        "greetee = \"Lord Voldemort\"\n",
        "if greetee != \"Lord Voldemort\":\n",
        "  print(\"Hello, \" + greetee)\n",
        "else:\n",
        "  print(\"I'm not talking to you.\")"
      ],
      "execution_count": 7,
      "outputs": [
        {
          "output_type": "stream",
          "text": [
            "I'm not talking to you.\n"
          ],
          "name": "stdout"
        }
      ]
    }
  ]
}