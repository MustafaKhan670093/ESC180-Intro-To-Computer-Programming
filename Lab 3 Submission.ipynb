{
  "nbformat": 4,
  "nbformat_minor": 0,
  "metadata": {
    "colab": {
      "name": "Lab 3 Submission.ipynb",
      "provenance": [],
      "collapsed_sections": [],
      "toc_visible": true,
      "mount_file_id": "1poqcKQbPh1IouWH40JgLfUcQYnMTFeS6",
      "authorship_tag": "ABX9TyNizJyEaNG23n+Oy0Ygie1n",
      "include_colab_link": true
    },
    "kernelspec": {
      "name": "python3",
      "display_name": "Python 3"
    }
  },
  "cells": [
    {
      "cell_type": "markdown",
      "metadata": {
        "id": "view-in-github",
        "colab_type": "text"
      },
      "source": [
        "<a href=\"https://colab.research.google.com/github/MustafaKhan670093/ESC180-Intro-To-Computer-Programming/blob/master/Lab%203%20Submission.ipynb\" target=\"_parent\"><img src=\"https://colab.research.google.com/assets/colab-badge.svg\" alt=\"Open In Colab\"/></a>"
      ]
    },
    {
      "cell_type": "markdown",
      "metadata": {
        "id": "eLXhxc52JR6e"
      },
      "source": [
        "# **Mustafa's Submission For ESC180 Lab 3**\n",
        "\n",
        "In this lab, you write code that tests other code for correctness, and practice some Python constructs. More information about the lab can be found [here](https://nbviewer.jupyter.org/github/guerzh/esc180lab/blob/master/Lab3.ipynb). "
      ]
    },
    {
      "cell_type": "markdown",
      "metadata": {
        "id": "PqO0Ei2iJpCS"
      },
      "source": [
        "## **Problem 1**\n",
        "\n",
        "Create the file test_calc.py, and add in some testing code for the calculator lab. "
      ]
    },
    {
      "cell_type": "code",
      "metadata": {
        "id": "vHvHj95SW0a2"
      },
      "source": [
        "#Note: the lab02 file was uploaded to my Google Drive. The following command copies it to the colab runtime.\n",
        "!cp \"drive/My Drive/Colab Notebooks/lab02.py\" ."
      ],
      "execution_count": null,
      "outputs": []
    },
    {
      "cell_type": "markdown",
      "metadata": {
        "id": "GcR0CXjydp0P"
      },
      "source": [
        "### **test_calc.py**"
      ]
    },
    {
      "cell_type": "code",
      "metadata": {
        "id": "qhwvchaGJKRN",
        "outputId": "0880ad86-73e8-46fd-add2-f3f9d23b67a3",
        "colab": {
          "base_uri": "https://localhost:8080/",
          "height": 306
        }
      },
      "source": [
        "import lab02\n",
        "\n",
        "if __name__ == '__main__':\n",
        "  lab02.initialize()\n",
        "\n",
        "  #Test 1: Addition\n",
        "  lab02.add(42)\n",
        "  if lab02.get_current_value() == 42:\n",
        "    print(\"Test 1: Addition passed\")\n",
        "  else:\n",
        "    print(\"Test 1: Addition failed\")\n",
        "\n",
        "  #Test 2: Subtraction\n",
        "  lab02.subtract(40)\n",
        "  if lab02.get_current_value() == 2:\n",
        "    print(\"Test 2: Subtraction passed\")\n",
        "  else:\n",
        "    print(\"Test 2: Subtraction failed\")    \n",
        "\n",
        "  #Test 3: Multiplication\n",
        "  lab02.multiply(10)\n",
        "  if lab02.get_current_value() == 20:\n",
        "    print(\"Test 3: Multiplication passed\")\n",
        "  else:\n",
        "    print(\"Test 3: Multiplication failed\") \n",
        "\n",
        "  #Test 4: Division\n",
        "  lab02.divide(5)\n",
        "  if lab02.get_current_value() == 4:\n",
        "    print(\"Test 4: Division passed\")\n",
        "  else:\n",
        "    print(\"Test 4: Division failed\") \n",
        "\n",
        "  #Test 5: Division By Zero\n",
        "  lab02.divide(0)\n",
        "  if lab02.get_current_value() == 'ERROR':\n",
        "    print(\"Test 4: Division by zero raises correct error\")\n",
        "  else:\n",
        "    print(\"Test 4: Division by zero failed to raise correct error\") \n",
        "\n",
        " #Test 6: Operations Continuing After An ERROR.\n",
        "  lab02.add(10)\n",
        "  if lab02.get_current_value() == 10:\n",
        "    print(\"Test 6: 'Operations Can Continue After an ERROR' passed\")\n",
        "  else:\n",
        "    print(\"Test 6: 'Operations Can Continue After an ERROR' failed\") \n",
        "\n",
        "  #Test 7: Negative Numbers\n",
        "  lab02.initialize()\n",
        "  lab02.subtract(10)\n",
        "  if lab02.get_current_value() == -10:\n",
        "    print(\"Test 7: Negative Numbers passed\")\n",
        "  else:\n",
        "    print(\"Test 7: Negative Numbers failed\") \n",
        "\n",
        "  #Test 8: Undo Function\n",
        "  lab02.initialize()\n",
        "  lab02.add(10)\n",
        "  lab02.subtract(5)\n",
        "  lab02.undo()\n",
        "  if lab02.get_current_value() == 10:\n",
        "    print(\"Test 8: Undo Function passed\")\n",
        "  else:\n",
        "    print(\"Test 8: Undo Function failed\") \n",
        "\n",
        "  #Test 9: Undo Function x2\n",
        "  lab02.initialize()\n",
        "  lab02.add(10)              #Current Value: 10\n",
        "  lab02.subtract(5)          #Current Value: 5\n",
        "  lab02.multiply(4)          #Current Value: 20\n",
        "  lab02.undo()               #Current Value: 5\n",
        "  lab02.undo()               #Current Value: 20\n",
        "  if lab02.get_current_value() == 20:\n",
        "    print(\"Test 9: Undo Function x2 passed\")\n",
        "  else:\n",
        "    print(\"Test 9: Undo Function x2 failed\") \n",
        "\n",
        "  #Test 10: Irrational Numbers\n",
        "  import math\n",
        "  lab02.initialize()\n",
        "  lab02.add(42)\n",
        "  lab02.divide(math.pi)\n",
        "  if lab02.get_current_value() == 13.36901521971921:\n",
        "    print(\"Test 10: Irrational Numbers passed\")\n",
        "  else:\n",
        "    print(\"Test 10: Irrational Numbers failed\") \n",
        "\n",
        "  #Test 11: Cases With Zero (Part 1)\n",
        "  lab02.initialize()\n",
        "  lab02.add(5)\n",
        "  lab02.subtract(5) # expected: 5-5 = 0\n",
        "  if lab02.get_current_value() == 0:\n",
        "    print(\"Test 11: Cases With Zero (Part 1) passed\")\n",
        "  else:\n",
        "    print(\"Test 11: Cases With Zero (Part 1) failed\") \n",
        "\n",
        "  #Test 12: Cases With Zero (Part 2)\n",
        "  lab02.initialize()\n",
        "  lab02.add(5)\n",
        "  lab02.add(0) #expected output: 5+0=5\n",
        "  if lab02.get_current_value() == 6:\n",
        "    print(\"Test 12: Cases With Zero (Part 2) passed\")\n",
        "  else:\n",
        "    print(\"Test 12: Cases With Zero (Part 2) failed\") \n",
        "\n",
        "  #Test 13 & 14: Dividing By Large Numbers (And Multiplying By Them)\n",
        "  lab02.initialize()\n",
        "  lab02.add(5)\n",
        "  lab02.divide(10000000000000000000000000000000000000000000000000) #expected output: 5e-49\n",
        "  if lab02.get_current_value() == 5e-49:\n",
        "    print(\"Test 13: Dividing By Large Numbers passed\")\n",
        "  else:\n",
        "    print(\"Test 13: Dividing By Large Numbers failed\") \n",
        "  lab02.multiply(10000000000000000000000000000000000000000000000000) #expected output: 5\n",
        "  if lab02.get_current_value() == 5:\n",
        "    print(\"Test 14: Multiplying By Large Numbers passed\")\n",
        "  else:\n",
        "    print(\"Test 14: Multiplying By Large Numbers failed\") \n",
        "\n",
        "  #Test 15: Storing And Recalling Values\n",
        "  lab02.initialize()\n",
        "  lab02.add(5)\n",
        "  lab02.store()\n",
        "  lab02.multiply(4)\n",
        "  lab02.recall()\n",
        "  if lab02.get_current_value() == 5:\n",
        "    print(\"Test 15: Storing And Recalling Values passed\")\n",
        "  else:\n",
        "    print(\"Test 15: Storing And Recalling Values failed\") \n",
        "\n",
        "  #Test 16: Storing An Error\n",
        "  lab02.initialize()\n",
        "  lab02.add(5)\n",
        "  lab02.divide(0) #expected output: \"ERROR\"\n",
        "  lab02.store()\n",
        "  if lab02.get_current_value() == \"ERROR\":\n",
        "    print(\"Test 16: Storing An Error passed\")\n",
        "  else:\n",
        "    print(\"Test 16: Storing An Error failed\") \n",
        "\n",
        "\n",
        "  #Test 17: Undoing An Error\n",
        "  lab02.initialize()\n",
        "  lab02.add(5)\n",
        "  lab02.divide(0) #expected output: \"ERROR\"\n",
        "  lab02.undo()\n",
        "  if lab02.get_current_value() == 5:\n",
        "    print(\"Test 17: Undoing An Error passed\")\n",
        "  else:\n",
        "    print(\"Test 17: Undoing An Error failed\") "
      ],
      "execution_count": 90,
      "outputs": [
        {
          "output_type": "stream",
          "text": [
            "Test 1: Addition passed\n",
            "Test 2: Subtraction passed\n",
            "Test 3: Multiplication passed\n",
            "Test 4: Division passed\n",
            "Test 4: Division by zero raises correct error\n",
            "Test 6: 'Operations Can Continue After an ERROR' failed\n",
            "Test 7: Negative Numbers passed\n",
            "Test 8: Undo Function passed\n",
            "Test 9: Undo Function x2 passed\n",
            "Test 10: Irrational Numbers passed\n",
            "Test 11: Cases With Zero (Part 1) passed\n",
            "Test 12: Cases With Zero (Part 2) failed\n",
            "Test 13: Dividing By Large Numbers passed\n",
            "Test 14: Multiplying By Large Numbers passed\n",
            "Test 15: Storing And Recalling Values passed\n",
            "Test 16: Storing An Error passed\n",
            "Test 17: Undoing An Error passed\n"
          ],
          "name": "stdout"
        }
      ]
    },
    {
      "cell_type": "markdown",
      "metadata": {
        "id": "FoXoLgI3qbgz"
      },
      "source": [
        "## **Problem 2: Sums Of Cubes**\n",
        "\n",
        "* Write a function that computes **the sum of cubes, $1^3 + 2^3 + ... + n^3$** till an **nth** number using a loop. \n",
        "* Then, write another function that computes the same value using the formula found [here](https://math.stackexchange.com/questions/1328798/proving-the-sum-of-n-consecutive-cubes-is-equal-to-the-square-of-the-sum-of-t). \n",
        "* Next, write a function with the signature **`def check_sum(n)`** that computes the sum of consecutive cubes using a loop and using the formula, and return **`True`** iff the results match. \n",
        "* Finally, write a function with the signature def **`check_sums_up_to_n(N)`** that checks that the formula works for every `n ≤ N` and returns **`True`** iff for every **`n ≤ N`**, the formula works."
      ]
    },
    {
      "cell_type": "markdown",
      "metadata": {
        "id": "hLMlIh3XrndB"
      },
      "source": [
        "### **Sum Of Cubes Till *nth* Number**"
      ]
    },
    {
      "cell_type": "code",
      "metadata": {
        "id": "YKteeYe9WTx3",
        "outputId": "6b0f2c12-0fba-46ee-f417-48595196f896",
        "colab": {
          "base_uri": "https://localhost:8080/",
          "height": 34
        }
      },
      "source": [
        "def sum_of_cubes(n):\n",
        "  total = 0\n",
        "  for i in range(1, n+1):\n",
        "    total += i**3\n",
        "  return total\n",
        "\n",
        "#Testing Function\n",
        "#Note that the sum of first 5 cubes are as follows: 1, 9, 36, 100, 255\n",
        "\n",
        "print(\"Sum Of First 5 Cubes: \" + str(sum_of_cubes(1)) + \", \" + str(sum_of_cubes(2)) + \", \" + str(sum_of_cubes(3)) + \", \" + str(sum_of_cubes(4)) + \", \" + str(sum_of_cubes(5)))"
      ],
      "execution_count": 107,
      "outputs": [
        {
          "output_type": "stream",
          "text": [
            "Sum Of First 5 Cubes: 1, 9, 36, 100, 225\n"
          ],
          "name": "stdout"
        }
      ]
    },
    {
      "cell_type": "markdown",
      "metadata": {
        "id": "-7QxG2iwsFyf"
      },
      "source": [
        "### **Sum Of Cubes Till *nth* Number Formula**"
      ]
    },
    {
      "cell_type": "code",
      "metadata": {
        "id": "rho3v02dsI3v",
        "outputId": "5808570b-ece4-4dfb-e1cf-04703c2f04a7",
        "colab": {
          "base_uri": "https://localhost:8080/",
          "height": 34
        }
      },
      "source": [
        "def sum_of_cubes_from_formula(n):\n",
        "  return ((n**2)*((n+1)**2))/4\n",
        "\n",
        "#Testing Function\n",
        "#Note that the sum of first 5 cubes are as follows: 1, 9, 36, 100, 255\n",
        "\n",
        "print(\"Sum Of First 5 Cubes: \" + str(sum_of_cubes_from_formula(1)) + \", \" + str(sum_of_cubes_from_formula(2)) + \", \" + str(sum_of_cubes_from_formula(3)) + \", \" + str(sum_of_cubes_from_formula(4)) + \", \" + str(sum_of_cubes_from_formula(5)))"
      ],
      "execution_count": 108,
      "outputs": [
        {
          "output_type": "stream",
          "text": [
            "Sum Of First 5 Cubes: 1.0, 9.0, 36.0, 100.0, 225.0\n"
          ],
          "name": "stdout"
        }
      ]
    },
    {
      "cell_type": "markdown",
      "metadata": {
        "id": "34XQfQbXs7Y-"
      },
      "source": [
        "### **Creating The `def check_sum(n)` Function**"
      ]
    },
    {
      "cell_type": "code",
      "metadata": {
        "id": "DVqgJhFwtCJJ",
        "outputId": "b3f052a3-5a3c-46b0-d137-9a9f03d02f19",
        "colab": {
          "base_uri": "https://localhost:8080/",
          "height": 34
        }
      },
      "source": [
        "def check_sum(n):\n",
        "  if sum_of_cubes(n) == sum_of_cubes_from_formula(n):\n",
        "    return True\n",
        "\n",
        "check_sum(5)"
      ],
      "execution_count": 116,
      "outputs": [
        {
          "output_type": "execute_result",
          "data": {
            "text/plain": [
              "True"
            ]
          },
          "metadata": {
            "tags": []
          },
          "execution_count": 116
        }
      ]
    },
    {
      "cell_type": "markdown",
      "metadata": {
        "id": "zW9rzpyztcqG"
      },
      "source": [
        "### **Creating The `check_sums_up_to_n(N)` Function**"
      ]
    },
    {
      "cell_type": "code",
      "metadata": {
        "id": "L5s6mb3-tmCg",
        "outputId": "ad052b91-a045-43eb-8551-edd1b7614a7b",
        "colab": {
          "base_uri": "https://localhost:8080/",
          "height": 34
        }
      },
      "source": [
        "def check_sums_up_to_n(N):\n",
        "  for n in range(1, N+1):\n",
        "    if sum_of_cubes(n) == sum_of_cubes_from_formula(n):\n",
        "      continue\n",
        "    else:\n",
        "      return False\n",
        "  return True\n",
        "\n",
        "check_sums_up_to_n(100)"
      ],
      "execution_count": 123,
      "outputs": [
        {
          "output_type": "execute_result",
          "data": {
            "text/plain": [
              "True"
            ]
          },
          "metadata": {
            "tags": []
          },
          "execution_count": 123
        }
      ]
    },
    {
      "cell_type": "markdown",
      "metadata": {
        "id": "w56ule68xBYw"
      },
      "source": [
        "## **Problem 3: *π***\n",
        "\n",
        "The following is the Leibniz formula for ***π***: $\\sum_0^{\\infty} \\frac{(-1)^n}{2n+1} = \\frac{\\pi}{4}.$\n",
        "\n",
        "Write a program (using a `for`- or a `while`- loop) to compute: $\\sum_0^{1000} \\frac{(-1)^n}{2n+1},$\n",
        "\n",
        "and then print an approximation for π using the result of the computation.\n",
        "\n",
        "See [here](https://en.wikipedia.org/wiki/Leibniz_formula_for_%CF%80) for details on why this works.\n"
      ]
    },
    {
      "cell_type": "code",
      "metadata": {
        "id": "vrfJffX4xOQj",
        "outputId": "2f2b1dad-a150-427f-8536-2f3fd252e0e6",
        "colab": {
          "base_uri": "https://localhost:8080/",
          "height": 51
        }
      },
      "source": [
        "def leibniz_pi(n):\n",
        "  total = 0\n",
        "  for i in range(n+1):\n",
        "    total+= ((-1)**i)/((2*i)+1)\n",
        "  return total\n",
        "\n",
        "print(\"π/4 ≈ \" + str(leibniz_pi(1000)))\n",
        "print(\"Therefore, π ≈ \" + str(4*leibniz_pi(1000)))"
      ],
      "execution_count": 129,
      "outputs": [
        {
          "output_type": "stream",
          "text": [
            "π/4 ≈ 0.7856479135848861\n",
            "Therefore, π ≈ 3.1425916543395442\n"
          ],
          "name": "stdout"
        }
      ]
    }
  ]
}